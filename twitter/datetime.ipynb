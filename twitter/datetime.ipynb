{
 "cells": [
  {
   "cell_type": "code",
   "execution_count": null,
   "metadata": {
    "collapsed": false
   },
   "outputs": [],
   "source": [
    "import json,sys,re,string,itertools\n",
    "\n",
    "def tweetSent(txt,dct):\n",
    "\n",
    "    delims = \"?.,!:;\"\n",
    "    ww=''.join(l for l in txt if l in string.letters+' ')\n",
    "    wor=ww.split(' ')\n",
    "    words=[w.strip() for w in wor ]\n",
    "    \n",
    "    wordsSent=list(map(lambda w: sum(dct[w]) if w in dct.keys() else 0.0,words))\n",
    "    \n",
    "    sentm=sum(wordsSent)\n",
    "    rdct=[]\n",
    "    for w in words:\n",
    "        if len(w.strip())>0:\n",
    "            lstt=[w,0.0,0.0]\n",
    "            if sentm>0:\n",
    "                if w in dct.keys():\n",
    "                    if sentm>dct[w][0]:\n",
    "                        lstt[1]=sentm\n",
    "                    else:\n",
    "                        lstt[1]=dct[w][0]\n",
    "                    lstt[2]=(dct[w][1])\n",
    "                else:\n",
    "                    lstt[1]=sentm\n",
    "\n",
    "            if sentm<0:\n",
    "                if w in dct.keys():  \n",
    "\n",
    "                    lstt[1]=dct[w][0]\n",
    "                    if sentm<dct[w][1]:\n",
    "                        lstt[2]=sentm\n",
    "                    else:\n",
    "                        lstt[2]=dct[w][1]\n",
    "                else:\n",
    "                    lstt[2]=sentm\n",
    "            rdct.append(lstt)       \n",
    "    return rdct\n",
    "def disp(d):\n",
    "    for k in d:\n",
    "        if type(k[1])==float:\n",
    "            k0=''.join(l for l in k[0] if l in string.letters)\n",
    "            print (str(k0)+' '+str(k[1]))\n",
    "\n",
    "en=lambda x: x.encode('latin1', errors='ignore')\n",
    "sent_file = open('AFINN-111.txt')#open(sys.argv[1])\n",
    "tweet_file = open('output.txt')#open(sys.argv[2])\n",
    "\n",
    "txt=tweet_file.readlines()\n",
    "dctt=sent_file.readlines()\n",
    "\n",
    "dcttt={x.split('\\t')[0].strip():float(str(x.split('\\t')[1].strip())) for x in dctt}\n",
    "\n",
    "dct={k:[v,0.0] if v>0  else [0.0,v] for k,v in dcttt.items() }\n",
    "\n",
    "\n",
    "tweetlines=[json.loads(t) for t in  txt]\n",
    "tweetText=list(map(lambda l: en(l['text']) if 'text' in l.keys() else '',tweetlines))\n",
    "#t=tweetText[-1000]\n",
    "res=list((itertools.chain(*[tweetSent(t,dct) for t in tweetText])))\n",
    "#print(len(res),res[0])    \n",
    "ress=[[item[0],item[1]] if abs(item[1])>=abs(item[2]) else [item[0],item[2]] for item in res if len(item[0].strip())>0 ]\n",
    "#res=[k for k in res if len(k[0].strip())>0]\n",
    "#disp(ress)\n",
    "#ress\n"
   ]
  },
  {
   "cell_type": "code",
   "execution_count": 343,
   "metadata": {
    "collapsed": false,
    "scrolled": true
   },
   "outputs": [],
   "source": [
    "import json,sys,re,string,itertools\n",
    "keys={'admin1 code': [10, 'fipscode (subject to change to iso code), see exceptions below, see file admin1Codes.txt for display names of this code; varchar(20)'], 'admin2 code': [11, 'code for the second administrative division, a county in the US, see file admin2Codes.txt; varchar(80)'], 'admin3 code': [12, 'code for third level administrative division, varchar(20)'], 'admin4 code': [13, 'code for fourth level administrative division, varchar(20)'], 'alternatenames': [3, 'alternatenames, comma separated, ascii names automatically transliterated, convenience attribute from alternatename table, varchar(10000)'], 'asciiname': [2, 'name of geographical point in plain ascii characters, varchar(200)'], 'cc2': [9, 'alternate country codes, comma separated, ISO-3166 2-letter country code, 200 characters'], 'country code': [8, 'ISO-3166 2-letter country code, 2 characters'], 'dem': [16, \"digital elevation model, srtm3 or gtopo30, average elevation of 3''x3'' (ca 90mx90m) or 30''x30'' (ca 900mx900m) area in meters, integer. srtm processed by cgiar/ciat.\"], 'elevation': [15, 'in meters, integer'], 'feature class': [6, '//www.geonames.org/export/codes.html, char(1)', 'see http'], 'feature code': [7, '//www.geonames.org/export/codes.html, varchar(10)', 'see http'], 'geonameid': [0, 'integer id of record in geonames database'], 'latitude': [4, 'latitude in decimal degrees (wgs84)'], 'longitude': [5, 'longitude in decimal degrees (wgs84)'], 'modification date': [18, 'date of last modification in yyyy-MM-dd format'], 'name': [1, 'name of geographical point (utf8) varchar(200)'], 'population': [14, 'bigint (8 byte int)'], 'timezone': [17, 'the iana timezone id (see file timeZone.txt) varchar(40)']}\n",
    "states = { 'AK': 'Alaska', 'AL': 'Alabama', 'AR': 'Arkansas', 'AS': 'American Samoa', 'AZ': 'Arizona', 'CA': 'California', 'CO': 'Colorado', 'CT': 'Connecticut', 'DC': 'District of Columbia', 'DE': 'Delaware', 'FL': 'Florida', 'GA': 'Georgia', 'GU': 'Guam', 'HI': 'Hawaii', 'IA': 'Iowa', 'ID': 'Idaho', 'IL': 'Illinois', 'IN': 'Indiana', 'KS': 'Kansas', 'KY': 'Kentucky', 'LA': 'Louisiana', 'MA': 'Massachusetts', 'MD': 'Maryland', 'ME': 'Maine', 'MI': 'Michigan', 'MN': 'Minnesota', 'MO': 'Missouri', 'MP': 'Northern Mariana Islands', 'MS': 'Mississippi', 'MT': 'Montana', 'NA': 'National', 'NC': 'North Carolina', 'ND': 'North Dakota', 'NE': 'Nebraska', 'NH': 'New Hampshire', 'NJ': 'New Jersey', 'NM': 'New Mexico', 'NV': 'Nevada', 'NY': 'New York', 'OH': 'Ohio', 'OK': 'Oklahoma', 'OR': 'Oregon', 'PA': 'Pennsylvania', 'PR': 'Puerto Rico', 'RI': 'Rhode Island', 'SC': 'South Carolina', 'SD': 'South Dakota', 'TN': 'Tennessee', 'TX': 'Texas', 'UT': 'Utah', 'VA': 'Virginia', 'VI': 'Virgin Islands', 'VT': 'Vermont', 'WA': 'Washington', 'WI': 'Wisconsin', 'WV': 'West Virginia', 'WY': 'Wyoming' } \n",
    "cities={\"Pryor\": \"OK\", \"Fayetteville/Springdale/Rogers\": \"AR\", \"Packwood\": \"WA\", \"Hazelhurst\": \"GA\", \"Kindred\": \"ND\", \"Burnet\": \"TX\", \"Le Mars\": \"IA\", \"Schroon Lake\": \"NY\", \"Cooperstown\": \"ND\", \"Toledo\": \"OH\", \"Nampa\": \"ID\", \"Elizabethton\": \"TN\", \"Oakdale\": \"CA\", \"Hondo\": \"TX\", \"Put In Bay\": \"OH\", \"Grand Haven\": \"MI\", \"Timberon\": \"NM\", \"Eagle Butte\": \"SD\", \"Jennings\": \"LA\", \"Bar Harbor\": \"ME\", \"Scottsdale\": \"AZ\", \"Casey\": \"IL\", \"Williamsport\": \"PA\", \"Shirley\": \"NY\", \"Upland\": \"CA\", \"Louisburg\": \"NC\", \"Alamosa\": \"CO\", \"Waterloo\": \"IA\", \"Aliceville\": \"AL\", \"Montrose\": \"CO\", \"Cambellsville\": \"KY\", \"Poplar\": \"MT\", \"Plattsburgh\": \"NY\", \"Torrington\": \"WY\", \"Wolf Point\": \"MT\", \"Redding\": \"CA\", \"Kearney\": \"NE\", \"Goshen\": \"IN\", \"Thomas\": \"OK\", \"Richland Center\": \"WI\", \"Tunica\": \"MS\", \"Tuba City\": \"AZ\", \"Challis\": \"ID\", \"New Holstein\": \"WI\", \"Pedrictown\": \"NJ\", \"El Monte\": \"CA\", \"Piggott\": \"AR\", \"Middlefield\": \"OH\", \"Jeffersonville\": \"IN\", \"Opelousas\": \"LA\", \"Crystal Springs\": \"MS\", \"Ludington\": \"MI\", \"Pampa\": \"TX\", \"Defuniak Springs\": \"FL\", \"Townsend\": \"MT\", \"Lamar\": \"MO\", \"Galion\": \"OH\", \"Owyhee\": \"NV\", \"Williams\": \"AZ\", \"Brooksville\": \"FL\", \"Goldsby\": \"OK\", \"Castroville\": \"TX\", \"Hailey\": \"ID\", \"Boise\": \"ID\", \"Rockland\": \"ME\", \"Clarendon\": \"AR\", \"Hamilton\": \"TX\", \"Hammonton\": \"NJ\", \"Sault Ste. Marie\": \"MI\", \"Colorado Springs\": \"CO\", \"Skiatook\": \"OK\", \"Gadsden\": \"AL\", \"Albia\": \"IA\", \"Coffeyville\": \"KS\", \"Clarion\": \"IA\", \"Burbank\": \"CA\", \"Stuttgart\": \"AR\", \"Electric City\": \"WA\", \"Fitchburg\": \"MA\", \"Eveleth\": \"MN\", \"Merrill\": \"WI\", \"Stevensville\": \"MD\", \"Beatrice\": \"NE\", \"Talladega\": \"AL\", \"Wildwood\": \"NJ\", \"Las Vegas\": \"NM\", \"Sherman/Denison\": \"TX\", \"La Pointe\": \"WI\", \"Lorain/Elyria\": \"OH\", \"Lockport\": \"NY\", \"Scottsboro\": \"AL\", \"Vashon\": \"WA\", \"Chignik Flats\": \"AK\", \"Ivanof Bay\": \"AK\", \"Dexter\": \"MO\", \"Quincy\": \"IL\", \"Fremont\": \"OH\", \"Tuntutuliak\": \"AK\", \"Saratoga Springs\": \"NY\", \"Cut Bank\": \"MT\", \"Kelso\": \"WA\", \"Tompkinsville\": \"KY\", \"Wales\": \"AK\", \"Kivalina\": \"AK\", \"Anahauac\": \"TX\", \"Star\": \"NC\", \"Danbury\": \"CT\", \"Seymour\": \"IN\", \"Canby\": \"MN\", \"Okeechobee\": \"FL\", \"Northwood\": \"ND\", \"Vernon\": \"TX\", \"Poughkeepsie\": \"NY\", \"Corning\": \"NY\", \"Akron\": \"OH\", \"Fond Du Lac\": \"WI\", \"Prentiss\": \"MS\", \"Fort Sumner\": \"NM\", \"Elizabeth City\": \"NC\", \"Wauchula\": \"FL\", \"Lake Charles\": \"LA\", \"Houlton\": \"ME\", \"Kokomo\": \"IN\", \"West Jefferson\": \"NC\", \"Sebring\": \"FL\", \"Quakertown\": \"PA\", \"Crowley\": \"LA\", \"Morganton\": \"NC\", \"Statesboro\": \"GA\", \"Chinook\": \"MT\", \"Big Rapids\": \"MI\", \"Priest River\": \"ID\", \"Piseco\": \"NY\", \"Angwin\": \"CA\", \"North Platte\": \"NE\", \"Centerville\": \"IA\", \"Gabbs\": \"NV\", \"Kadoka\": \"SD\", \"Islesboro\": \"ME\", \"Hettinger\": \"ND\", \"Orange City\": \"IA\", \"West Palm Beach\": \"FL\", \"Drummond Island\": \"MI\", \"Haycock\": \"AK\", \"Park Falls\": \"WI\", \"Bay City\": \"TX\", \"Indianapolis/Greenwood\": \"IN\", \"Mandan\": \"ND\", \"Questa\": \"NM\", \"Eagle\": \"CO\", \"St Cloud\": \"MN\", \"Nenana\": \"AK\", \"Phoenix\": \"AZ\", \"Gardner\": \"KS\", \"Champaign/Urbana\": \"IL\", \"Dallas-Fort Worth\": \"TX\", \"Tomahawk\": \"WI\", \"Sioux Falls\": \"SD\", \"Laurens\": \"SC\", \"Chesapeake\": \"OH\", \"Cicero\": \"NY\", \"Barnesville\": \"OH\", \"Polacca\": \"AZ\", \"Connellsville\": \"PA\", \"Howell\": \"MI\", \"Prestonburg\": \"KY\", \"Vernal\": \"UT\", \"Ebensburg\": \"PA\", \"Huntington\": \"WV\", \"Chignik\": \"AK\", \"Jeanette\": \"PA\", \"Mineral Wells\": \"TX\", \"Cameron Park\": \"CA\", \"Port Angeles\": \"WA\", \"Salinas\": \"CA\", \"Haskell\": \"TX\", \"Healy\": \"AK\", \"Mendota\": \"CA\", \"Monroe\": \"MI\", \"Greybull\": \"WY\", \"Arlington\": \"TX\", \"Land O' Lakes\": \"WI\", \"Sanford\": \"NC\", \"Montgomery\": \"AL\", \"Newark\": \"OH\", \"Apple Valley\": \"CA\", \"Allegan\": \"MI\", \"Charlottesville\": \"VA\", \"Biddeford\": \"ME\", \"Shawnee\": \"OK\", \"Lodi\": \"CA\", \"Chicago/Wheeling/Prospect Heights\": \"IL\", \"McMinnville\": \"TN\", \"Tazewell\": \"TN\", \"Montague\": \"CA\", \"McCall\": \"ID\", \"Kenmare\": \"ND\", \"Jonesboro\": \"AR\", \"Burns\": \"OR\", \"Leoti\": \"KS\", \"Scammon Bay\": \"AK\", \"Togiak\": \"AK\", \"Hickory\": \"NC\", \"Mobile\": \"AL\", \"Cle Elum\": \"WA\", \"Birchwood\": \"AK\", \"Green River\": \"UT\", \"Crandon\": \"WI\", \"Mohall\": \"ND\", \"Mexia\": \"TX\", \"Buhl\": \"ID\", \"Dover-Foxcroft\": \"ME\", \"Cairo\": \"IL\", \"Fort Worth\": \"TX\", \"Deer Lodge\": \"MT\", \"Gustavus\": \"AK\", \"Menomonie\": \"WI\", \"Grand Marais\": \"MN\", \"Superior\": \"WI\", \"Groton\": \"CT\", \"Frankfort\": \"IN\", \"Duncan\": \"OK\", \"Sunnyside\": \"WA\", \"Granbury\": \"TX\", \"Winner\": \"SD\", \"Evanston\": \"WY\", \"Hatch\": \"NM\", \"Myrtle Creek\": \"OR\", \"Sandpoint\": \"ID\", \"Toughkenamon\": \"PA\", \"Nacogdoches\": \"TX\", \"Millersburg\": \"OH\", \"Aspen\": \"CO\", \"Fort Scott\": \"KS\", \"Romeo\": \"MI\", \"Oberlin\": \"KS\", \"Hanford\": \"CA\", \"Hot Springs\": \"SD\", \"Chatham\": \"MA\", \"Faulkton\": \"SD\", \"Fall River Mills\": \"CA\", \"Homedale\": \"ID\", \"Broadus\": \"MT\", \"Willimantic\": \"CT\", \"Kantishna\": \"AK\", \"Machias\": \"ME\", \"Watertown\": \"WI\", \"Cotulla\": \"TX\", \"Brenham\": \"TX\", \"Bellefontaine\": \"OH\", \"Hollister\": \"CA\", \"Bisbee\": \"AZ\", \"Cambridge\": \"NE\", \"Clinton\": \"MO\", \"Valparaiso\": \"IN\", \"Illinois Valley (Cave Junction)\": \"OR\", \"Owensboro\": \"KY\", \"Winsted\": \"MN\", \"Noatak\": \"AK\", \"Amery\": \"WI\", \"Palmer\": \"MA\", \"Ugashik\": \"AK\", \"Cherokee\": \"IA\", \"Ackerman\": \"MS\", \"Siren\": \"WI\", \"Walterboro\": \"SC\", \"Yazoo City\": \"MS\", \"Wainwright\": \"AK\", \"New Braunfels\": \"TX\", \"Glens Falls\": \"NY\", \"Wharton\": \"TX\", \"Waco\": \"TX\", \"Pauls Valley\": \"OK\", \"Shamokin\": \"PA\", \"Medina\": \"OH\", \"Monterey\": \"CA\", \"Shreveport\": \"LA\", \"Mesa\": \"AZ\", \"Huntingburg\": \"IN\", \"Carrabasset\": \"ME\", \"Manteo\": \"NC\", \"West Chester\": \"PA\", \"Casselton\": \"ND\", \"La Crosse\": \"WI\", \"Bay Minette\": \"AL\", \"Searcy\": \"AR\", \"Escalante\": \"UT\", \"Charleston\": \"WV\", \"Igiugig\": \"AK\", \"Owosso\": \"MI\", \"Mekoryuk\": \"AK\", \"Detroit Lakes\": \"MN\", \"Prairie Du Chien\": \"WI\", \"St. Michael\": \"AK\", \"Craig\": \"AK\", \"Carroll\": \"IA\", \"Winnfield\": \"LA\", \"Millington\": \"TN\", \"Fallbrook\": \"CA\", \"Kobuk\": \"AK\", \"Angleton\": \"TX\", \"Flemingsburg\": \"KY\", \"Cody\": \"WY\", \"Crisfield\": \"MD\", \"Sayre\": \"OK\", \"Chicago/Waukegan\": \"IL\", \"Chicago\": \"IL\", \"Farmington\": \"NM\", \"Providence\": \"RI\", \"Dunseith\": \"ND\", \"Lakeport\": \"CA\", \"Jaffrey\": \"NH\", \"Oscoda\": \"MI\", \"Crystal River\": \"FL\", \"Akiachak\": \"AK\", \"Chitina\": \"AK\", \"Stroud\": \"OK\", \"Pinedale\": \"WY\", \"Everglades\": \"FL\", \"Cochran\": \"GA\", \"Grand Rapids\": \"MI\", \"Pocatello\": \"ID\", \"Paso Robles\": \"CA\", \"Caledonia\": \"MN\", \"Dothan\": \"AL\", \"Little Falls\": \"MN\", \"Point Baker\": \"AK\", \"Fergus Falls\": \"MN\", \"Bakersfield\": \"CA\", \"Dulce\": \"NM\", \"Wise\": \"VA\", \"Okemah\": \"OK\", \"Cape Girardeau\": \"MO\", \"Ravenswood\": \"WV\", \"Koyuk\": \"AK\", \"Frederick\": \"OK\", \"Atwood\": \"KS\", \"Fajardo\": \"PR\", \"Pageland\": \"SC\", \"Conrad\": \"MT\", \"Savoonga\": \"AK\", \"Bassett\": \"NE\", \"Galveston\": \"TX\", \"Trenton\": \"NJ\", \"Glendive\": \"MT\", \"New Lexington\": \"OH\", \"Edgeley\": \"ND\", \"Mason City\": \"IA\", \"Ardmore\": \"OK\", \"Elberton\": \"GA\", \"Kingston\": \"OK\", \"Vinita\": \"OK\", \"Tangier\": \"VA\", \"Levelland\": \"TX\", \"Crossett\": \"AR\", \"Talihina\": \"OK\", \"Anaconda\": \"MT\", \"Whiteriver\": \"AZ\", \"Corpus Christi\": \"TX\", \"Pellston\": \"MI\", \"Boyceville\": \"WI\", \"Parowan\": \"UT\", \"Chignik Lake\": \"AK\", \"Chehalis\": \"WA\", \"Union\": \"SC\", \"Readington\": \"NJ\", \"Cortez\": \"CO\", \"Ogdensburg\": \"NY\", \"Steubenville\": \"OH\", \"Snohomish\": \"WA\", \"Gunnison\": \"CO\", \"Powell\": \"WY\", \"Toccoa\": \"GA\", \"Covelo\": \"CA\", \"Kaunakakai\": \"HI\", \"Middlesboro\": \"KY\", \"Winnemucca\": \"NV\", \"Atmautluak\": \"AK\", \"Whittier\": \"AK\", \"Havana\": \"IL\", \"Kinston\": \"NC\", \"Port Lavaca\": \"TX\", \"Millville\": \"NJ\", \"Oneida\": \"TN\", \"Lumberton\": \"NC\", \"Wichita Falls\": \"TX\", \"King Cove\": \"AK\", \"New Albany\": \"MS\", \"Dodge City\": \"KS\", \"Albert Lea\": \"MN\", \"Corry\": \"PA\", \"Washington\": \"NC\", \"Waynesburg\": \"PA\", \"Andover\": \"NJ\", \"Rutherfordton\": \"NC\", \"Port Heiden\": \"AK\", \"Robbinsville\": \"NJ\", \"Rockport\": \"TX\", \"Summersville\": \"WV\", \"Casa Grande\": \"AZ\", \"Indianola\": \"MS\", \"Mammoth Lakes\": \"CA\", \"Jackson\": \"CA\", \"Crawfordsville\": \"IN\", \"Bennington\": \"VT\", \"Anderson\": \"SC\", \"Butler\": \"MO\", \"McPherson\": \"KS\", \"El Dorado\": \"KS\", \"Perryville\": \"MO\", \"Post Mills\": \"VT\", \"Vinton\": \"IA\", \"Atqasuk\": \"AK\", \"Red Devil\": \"AK\", \"Burlington/Mount Vernon\": \"WA\", \"Fort Jones\": \"CA\", \"Kernville\": \"CA\", \"San Antonio\": \"TX\", \"Christiansted\": \"VI\", \"Minden\": \"NV\", \"Roundup\": \"MT\", \"Hays\": \"KS\", \"Ponca City\": \"OK\", \"Craigmont\": \"ID\", \"Central\": \"AK\", \"State College\": \"PA\", \"Cottage Grove\": \"OR\", \"Statesville\": \"NC\", \"Pender\": \"NE\", \"Caribou\": \"ME\", \"Teterboro\": \"NJ\", \"West Milford\": \"NJ\", \"Nowata\": \"OK\", \"Thomson\": \"GA\", \"Winifred\": \"MT\", \"Logansport\": \"IN\", \"Grandledge\": \"MI\", \"Taylorville\": \"IL\", \"Placerville\": \"CA\", \"Aberdeen\": \"ID\", \"Edgemont\": \"SD\", \"Carlisle\": \"AR\", \"Palm Springs\": \"CA\", \"Trona\": \"CA\", \"Fullerton\": \"CA\", \"Traverse City\": \"MI\", \"Philippi\": \"WV\", \"Alamogordo\": \"NM\", \"Forest\": \"MS\", \"Burley\": \"ID\", \"Lompoc\": \"CA\", \"McGrath\": \"AK\", \"Victorville\": \"CA\", \"Wellsboro\": \"PA\", \"Bagdad\": \"AZ\", \"St Johns\": \"AZ\", \"Hazard\": \"KY\", \"Ashland/Lineville\": \"AL\", \"Kenedy\": \"TX\", \"Chicago/Frankfort\": \"IL\", \"Mariposa\": \"CA\", \"New Bedford\": \"MA\", \"Staples\": \"MN\", \"Big Bear\": \"CA\", \"Shaktoolik\": \"AK\", \"Harrisonville\": \"MO\", \"Stuart\": \"FL\", \"Sunriver\": \"OR\", \"Fayetteville\": \"AR\", \"Chappell\": \"NE\", \"Bozeman\": \"MT\", \"Winthrop\": \"WA\", \"Sheldon Point\": \"AK\", \"Andalusia\": \"AL\", \"Deland\": \"FL\", \"Conway\": \"AR\", \"Elim\": \"AK\", \"St Charles\": \"MO\", \"Worcester\": \"MA\", \"Delano\": \"CA\", \"Altoona\": \"PA\", \"Harrison\": \"OH\", \"Cleveland\": \"MS\", \"Wurtsboro\": \"NY\", \"Alton/St. Louis\": \"IL\", \"Atwater\": \"CA\", \"Athens\": \"TN\", \"Clarksburg\": \"WV\", \"Brookings\": \"OR\", \"Cordova\": \"AK\", \"Mena\": \"AR\", \"Kake\": \"AK\", \"Georgetown\": \"CA\", \"Willcox\": \"AZ\", \"Stow\": \"MA\", \"New Lisbon\": \"WI\", \"Trinity Center\": \"CA\", \"Harrisburg\": \"IL\", \"Pratt\": \"KS\", \"Blanding\": \"UT\", \"Fairview\": \"OK\", \"Gulfport-Biloxi\": \"MS\", \"Garden City\": \"KS\", \"Britton\": \"SD\", \"Tatum\": \"NM\", \"San Angelo\": \"TX\", \"Springer\": \"NM\", \"Gastonia\": \"NC\", \"May Creek\": \"AK\", \"Freeport\": \"IL\", \"Bristow\": \"OK\", \"Reidsville\": \"GA\", \"Hollis\": \"OK\", \"Morris\": \"MN\", \"Big Timber\": \"MT\", \"Bristol\": \"TN\", \"Audubon\": \"IA\", \"Ashland\": \"OR\", \"Garrison\": \"ND\", \"Holy Cross\": \"AK\", \"Pittstown\": \"NJ\", \"Pelican\": \"AK\", \"East Moriches\": \"NY\", \"Alamo\": \"NV\", \"Levelock\": \"AK\", \"Durango\": \"CO\", \"Cheraw\": \"SC\", \"Tribune\": \"KS\", \"Bottineau\": \"ND\", \"Des Moines\": \"IA\", \"Portland\": \"ME\", \"Roseburg\": \"OR\", \"Towanda\": \"PA\", \"Omak\": \"WA\", \"Griffin\": \"GA\", \"Russell\": \"KS\", \"Sheldon\": \"IA\", \"Sinton\": \"TX\", \"Cedar Key\": \"FL\", \"Antigo\": \"WI\", \"Scobey\": \"MT\", \"Red Cloud\": \"NE\", \"Culpeper\": \"VA\", \"Elkins\": \"WV\", \"Custer\": \"SD\", \"Vivian\": \"LA\", \"Eunice\": \"NM\", \"Newberry\": \"MI\", \"Astoria\": \"OR\", \"Flint\": \"MI\", \"Harvey\": \"ND\", \"Philip\": \"SD\", \"Front Royal\": \"VA\", \"De Witt\": \"AR\", \"Mayaguez\": \"PR\", \"Tampa\": \"FL\", \"Alakanuk\": \"AK\", \"Mount Pleasant\": \"PA\", \"Wilbur\": \"WA\", \"Bowman\": \"ND\", \"Odenton\": \"MD\", \"Spruce Pine\": \"NC\", \"Sturgis\": \"MI\", \"Alice\": \"TX\", \"Corona\": \"CA\", \"Wink\": \"TX\", \"Fort Atkinson\": \"WI\", \"Plant City\": \"FL\", \"Texarkana\": \"AR\", \"Fresno\": \"CA\", \"Kenmore\": \"WA\", \"Claxton\": \"GA\", \"Floydada\": \"TX\", \"San Marcos\": \"TX\", \"Ithaca\": \"NY\", \"Warren\": \"OH\", \"Eufaula\": \"AL\", \"Caldwell\": \"NJ\", \"Hughes\": \"AK\", \"Cross City\": \"FL\", \"Fargo\": \"ND\", \"Norton\": \"KS\", \"Goodyear\": \"AZ\", \"Luray\": \"VA\", \"Pahokee\": \"FL\", \"Great Barrington\": \"MA\", \"Pittsfield\": \"MA\", \"Cuba\": \"MO\", \"Peoria\": \"IL\", \"Worland\": \"WY\", \"Lamoni\": \"IA\", \"Perryton\": \"TX\", \"Okmulgee\": \"OK\", \"Utica\": \"MI\", \"Pocahontas\": \"IA\", \"Chevak\": \"AK\", \"Barnwell\": \"SC\", \"Arcadia\": \"FL\", \"Kalaupapa\": \"HI\", \"Charlevoix\": \"MI\", \"Point Pleasant\": \"WV\", \"Penn Yan\": \"NY\", \"Warroad\": \"MN\", \"Ellendale\": \"ND\", \"Macon\": \"GA\", \"West Point\": \"VA\", \"Madison\": \"CT\", \"Gustine\": \"CA\", \"Valentine\": \"NE\", \"Fort Dodge\": \"IA\", \"Smithville\": \"TX\", \"Cameron\": \"TX\", \"Sac City\": \"IA\", \"Muscatine\": \"IA\", \"Dallas\": \"TX\", \"Linton\": \"ND\", \"Fairfield\": \"IL\", \"Valdez\": \"AK\", \"Sitka\": \"AK\", \"Poplarville\": \"MS\", \"Cynthiana\": \"KY\", \"Richlands\": \"VA\", \"Richfield\": \"UT\", \"Firebaugh\": \"CA\", \"Mountain Grove\": \"MO\", \"Hobart\": \"OK\", \"Ames\": \"IA\", \"Lindsay\": \"OK\", \"Port Protection\": \"AK\", \"Calexico\": \"CA\", \"Homestead\": \"FL\", \"Holdenville\": \"OK\", \"Norwood\": \"MA\", \"Maryville\": \"MO\", \"Oskaloosa\": \"IA\", \"Belleville\": \"KS\", \"Eek\": \"AK\", \"Porterville\": \"CA\", \"Jean\": \"NV\", \"Tallulah\": \"LA\", \"Marianna\": \"FL\", \"Emmonak\": \"AK\", \"Sedalia\": \"MO\", \"Pleasanton\": \"TX\", \"Porcupine Creek\": \"AK\", \"Bainbridge\": \"GA\", \"Gaithersburg\": \"MD\", \"Weatherford\": \"OK\", \"Fostoria\": \"OH\", \"Elbow Lake\": \"MN\", \"Lake Village\": \"AR\", \"Hudson\": \"NY\", \"Malta\": \"MT\", \"Hector\": \"MN\", \"Port Clinton\": \"OH\", \"Pittsboro\": \"MS\", \"Ahoskie\": \"NC\", \"Hillsboro\": \"OH\", \"Elmira\": \"NY\", \"Circleville\": \"OH\", \"David City\": \"NE\", \"Piedmont\": \"MO\", \"Hoopa\": \"CA\", \"Cottonwood\": \"AZ\", \"Tracy\": \"MN\", \"Mount Vernon\": \"TX\", \"Bend\": \"OR\", \"Siler City\": \"NC\", \"Blackfoot\": \"ID\", \"Wichita\": \"KS\", \"Hillsdale\": \"MI\", \"Melbourne\": \"FL\", \"Albemarle\": \"NC\", \"Duchesne\": \"UT\", \"Rensselaer\": \"IN\", \"Palo Alto\": \"CA\", \"New Castle\": \"IN\", \"East Hampton\": \"NY\", \"Weiser\": \"ID\", \"Tupelo\": \"MS\", \"Pawnee\": \"OK\", \"Marked Tree\": \"AR\", \"Clifton\": \"TN\", \"Mission\": \"SD\", \"Clewiston\": \"FL\", \"Tyler\": \"TX\", \"Valier\": \"MT\", \"Chicken\": \"AK\", \"Agana\": \"GU\", \"Currituck\": \"NC\", \"Madras\": \"OR\", \"Shelby\": \"MT\", \"Ladysmith\": \"WI\", \"Apalachicola\": \"FL\", \"Plainville\": \"CT\", \"Peru/Lasalle\": \"IL\", \"Sisseton\": \"SD\", \"Portage Creek\": \"AK\", \"Wabash\": \"IN\", \"Indiana\": \"PA\", \"Milbank\": \"SD\", \"Talkeetna\": \"AK\", \"Anacortes\": \"WA\", \"Highgate\": \"VT\", \"Indian Head\": \"MD\", \"Columbia\": \"CA\", \"North Whale Pass\": \"AK\", \"King Salmon\": \"AK\", \"Isla De Culebra\": \"PR\", \"Lihue\": \"HI\", \"Falmouth\": \"KY\", \"Ashburn\": \"GA\", \"El Paso\": \"TX\", \"Santa Maria\": \"CA\", \"Lapeer\": \"MI\", \"Willows\": \"CA\", \"Spanish Fork\": \"UT\", \"Atlanta\": \"MI\", \"Easton\": \"MD\", \"Pine River\": \"MN\", \"Winnie/Stowell\": \"TX\", \"Battle Mountain\": \"NV\", \"Telluride\": \"CO\", \"Lakeland\": \"FL\", \"Bison\": \"SD\", \"Kodiak\": \"AK\", \"Parkston\": \"SD\", \"Okolona\": \"MS\", \"Galesburg\": \"IL\", \"Parker\": \"AZ\", \"Ulysses\": \"KS\", \"Lacon\": \"IL\", \"Canon\": \"GA\", \"Nondalton\": \"AK\", \"McCarthy\": \"AK\", \"Lampasas\": \"TX\", \"White Sulphur Springs\": \"MT\", \"Syracuse\": \"NY\", \"Santa Barbara\": \"CA\", \"Lahaina\": \"HI\", \"Gila Bend\": \"AZ\", \"Gold Beach\": \"OR\", \"Brinkley\": \"AR\", \"Goldfield\": \"NV\", \"Kemmerer\": \"WY\", \"Burlington\": \"KS\", \"Orange\": \"TX\", \"Port Townsend\": \"WA\", \"Waupaca\": \"WI\", \"Mangum\": \"OK\", \"Pinehurst/Southern Pines\": \"NC\", \"Daytona Beach\": \"FL\", \"Pottstown\": \"PA\", \"Honolulu\": \"HI\", \"Lopez\": \"WA\", \"Klamath Falls\": \"OR\", \"Minocqua-Woodruff\": \"WI\", \"Boise City\": \"OK\", \"Loris\": \"SC\", \"Neosho\": \"MO\", \"Youngstown\": \"OH\", \"Umatilla\": \"FL\", \"Winter Haven\": \"FL\", \"Spearman\": \"TX\", \"Cedarville\": \"CA\", \"West Memphis\": \"AR\", \"Pawnee City\": \"NE\", \"Charles City\": \"IA\", \"Wrangell\": \"AK\", \"Las Cruces\": \"NM\", \"Detroit - Grosse Ile\": \"MI\", \"Bishopville\": \"SC\", \"Kiana\": \"AK\", \"Fort Morgan\": \"CO\", \"Kipnuk\": \"AK\", \"Gladwin\": \"MI\", \"Lake Louise\": \"AK\", \"McCook\": \"NE\", \"Centreville\": \"AL\", \"Culbertson\": \"MT\", \"South Bend\": \"IN\", \"Watsonville\": \"CA\", \"Dahl Creek\": \"AK\", \"Cruz Bay\": \"VI\", \"Ashtabula\": \"OH\", \"Davis/Woodland/Winters\": \"CA\", \"Klawock\": \"AK\", \"Staunton/Harrisonburg\": \"VA\", \"Orlando\": \"FL\", \"Prineville\": \"OR\", \"Healdton\": \"OK\", \"Thief River Falls\": \"MN\", \"North Kingstown\": \"RI\", \"Westport, NY\": \"NY\", \"Lambertville\": \"MI\", \"Lebanon\": \"OR\", \"Wray\": \"CO\", \"Calico Rock\": \"AR\", \"Jena\": \"LA\", \"Humacao\": \"PR\", \"Safford\": \"AZ\", \"Livermore\": \"CA\", \"Kentland\": \"IN\", \"Larsen Bay\": \"AK\", \"Atlantic City\": \"NJ\", \"Cozad\": \"NE\", \"Salisbury\": \"MD\", \"Wheaton\": \"MN\", \"Scribner\": \"NE\", \"Osage City\": \"KS\", \"St Louis\": \"MO\", \"Sikeston\": \"MO\", \"Lakin\": \"KS\", \"Columbia-Mt Pleasant\": \"TN\", \"Mt Olive\": \"NC\", \"Chambersburg\": \"PA\", \"Harlingen\": \"TX\", \"Rexburg\": \"ID\", \"Harlowton\": \"MT\", \"Kaktovik\": \"AK\", \"Houma\": \"LA\", \"Carrollton\": \"OH\", \"Summerville\": \"SC\", \"Ocracoke\": \"NC\", \"Sleetmute\": \"AK\", \"Three Rivers\": \"MI\", \"Idabel\": \"OK\", \"Lamesa\": \"TX\", \"Bettles\": \"AK\", \"Aspermont\": \"TX\", \"Beckwourth\": \"CA\", \"Martin\": \"SD\", \"Hartsville\": \"SC\", \"Homerville\": \"GA\", \"Whiteville\": \"NC\", \"Fredericktown\": \"MO\", \"Lakewood\": \"NJ\", \"Jefferson City\": \"MO\", \"Guthrie Center\": \"IA\", \"Kelleys Island\": \"OH\", \"Crookston\": \"MN\", \"Kapolei\": \"HI\", \"Chicago/Round Lake Park\": \"IL\", \"Aberdeen-Amory\": \"MS\", \"Headland\": \"AL\", \"Sand Point\": \"AK\", \"Evart\": \"MI\", \"Jekyll Island\": \"GA\", \"Morton\": \"TX\", \"McKinney\": \"TX\", \"La Verne\": \"CA\", \"Bowie\": \"TX\", \"Fairhope\": \"AL\", \"Covington\": \"TN\", \"Pasco\": \"WA\", \"New Stuyahok\": \"AK\", \"Arctic Village\": \"AK\", \"Ticonderoga\": \"NY\", \"Brookfield\": \"WI\", \"Brigham City\": \"UT\", \"Waverly\": \"OH\", \"Copperhill\": \"TN\", \"Zanesville\": \"OH\", \"Onida\": \"SD\", \"Manitowoc\": \"WI\", \"Escanaba\": \"MI\", \"Shiprock\": \"NM\", \"Defiance\": \"OH\", \"Hartford\": \"WI\", \"Hoven\": \"SD\", \"Blythe\": \"CA\", \"Norfolk\": \"NE\", \"Cable\": \"WI\", \"Beckley\": \"WV\", \"Booneville\": \"MS\", \"Chicago/West Chicago\": \"IL\", \"Eureka\": \"SD\", \"Rome\": \"GA\", \"Gordon\": \"NE\", \"Kenosha\": \"WI\", \"Webster\": \"SD\", \"Tower\": \"MN\", \"Phillipsburg\": \"KS\", \"Nightmute\": \"AK\", \"Pittsburg\": \"KS\", \"Rangeley\": \"ME\", \"Wagner\": \"SD\", \"McAllen\": \"TX\", \"Clay Center\": \"KS\", \"Grants\": \"NM\", \"Stanley\": \"ND\", \"Red Bluff\": \"CA\", \"Meriden\": \"CT\", \"Lake In The Hills\": \"IL\", \"Kalispell\": \"MT\", \"Snyder\": \"TX\", \"Atka\": \"AK\", \"Muleshoe\": \"TX\", \"Utica/Frankfort\": \"NY\", \"Peru\": \"IN\", \"Forks\": \"WA\", \"Agua Dulce\": \"CA\", \"Colusa\": \"CA\", \"Sedona\": \"AZ\", \"Laredo\": \"TX\", \"Ruth\": \"CA\", \"Avon Park\": \"FL\", \"Freehold\": \"NY\", \"Ozona\": \"TX\", \"Satanta\": \"KS\", \"Racine\": \"WI\", \"Taos\": \"NM\", \"Commerce\": \"TX\", \"Bunnell\": \"FL\", \"Creston\": \"IA\", \"Lanai City\": \"HI\", \"Immokalee\": \"FL\", \"Haleyville\": \"AL\", \"Noorvik\": \"AK\", \"Hinesville\": \"GA\", \"Westfield\": \"MA\", \"Boulder City\": \"NV\", \"Shelbyville\": \"TN\", \"Metlakatla\": \"AK\", \"St Joseph\": \"MO\", \"Langdon\": \"ND\", \"Duluth\": \"MN\", \"Whitefield\": \"NH\", \"Wauseon\": \"OH\", \"Meade\": \"KS\", \"Winder\": \"GA\", \"Fairbury\": \"NE\", \"Erie\": \"PA\", \"Longview\": \"TX\", \"Quinton\": \"VA\", \"Norwalk\": \"OH\", \"Poteau\": \"OK\", \"Ontario\": \"CA\", \"Merritt Island\": \"FL\", \"Chuathbaluk\": \"AK\", \"Hollywood\": \"FL\", \"Window Rock\": \"AZ\", \"San Carlos\": \"CA\", \"Holly Springs\": \"MS\", \"Algona\": \"IA\", \"New Roads\": \"LA\", \"Marine City\": \"MI\", \"Angel Fire\": \"NM\", \"Post\": \"TX\", \"Fortuna\": \"CA\", \"Orangeburg\": \"SC\", \"Litchfield\": \"MN\", \"Ophir\": \"AK\", \"Hagerstown\": \"MD\", \"Slidell\": \"LA\", \"Enterprise\": \"AL\", \"Beverly\": \"MA\", \"Shungnak\": \"AK\", \"Florala\": \"AL\", \"Van Nuys\": \"CA\", \"Kalamazoo\": \"MI\", \"Roseau\": \"MN\", \"Baranof Warm Springs\": \"AK\", \"Concord\": \"NC\", \"Kill Devil Hills\": \"NC\", \"Chariton\": \"IA\", \"Port Isabel\": \"TX\", \"Bay Springs\": \"MS\", \"Saranac Lake\": \"NY\", \"Coeur D'Alene\": \"ID\", \"Iron Mountain/Kingsford\": \"MI\", \"Kotzebue\": \"AK\", \"Simsbury\": \"CT\", \"Kingsville\": \"TX\", \"Grand Forks\": \"ND\", \"Bryan\": \"TX\", \"Philadelphia\": \"PA\", \"Wasco\": \"CA\", \"Meyers Chuck\": \"AK\", \"Potsdam\": \"NY\", \"Overbrook\": \"OK\", \"Danville\": \"KY\", \"Naples\": \"FL\", \"Torrance\": \"CA\", \"Tulelake\": \"CA\", \"St Maries\": \"ID\", \"Lumbrerton\": \"NJ\", \"Marshfield\": \"WI\", \"Lemmon\": \"SD\", \"Mankato\": \"MN\", \"Yankton\": \"SD\", \"Clintonville\": \"WI\", \"Langley\": \"WA\", \"Sylva\": \"NC\", \"Ft. Myers\": \"FL\", \"Oceano\": \"CA\", \"Rugby\": \"ND\", \"Cloverdale\": \"CA\", \"East Troy\": \"WI\", \"Webster City\": \"IA\", \"Phillips\": \"WI\", \"New Smyrna Beach\": \"FL\", \"Boone\": \"IA\", \"Boonville\": \"MO\", \"Prescott\": \"AZ\", \"Tuscola\": \"IL\", \"Fernandina Beach\": \"FL\", \"Groveland\": \"CA\", \"Goldsboro\": \"NC\", \"Raymond\": \"MS\", \"Hugoton\": \"KS\", \"Suffolk\": \"VA\", \"McArthur\": \"OH\", \"Wadesboro\": \"NC\", \"Glenwood\": \"MN\", \"Galena\": \"AK\", \"Thermopolis\": \"WY\", \"West Union\": \"OH\", \"Rampart\": \"AK\", \"Menominee\": \"MI\", \"Ellsworth\": \"KS\", \"Lincolnton\": \"NC\", \"Miles City\": \"MT\", \"Baudette\": \"MN\", \"Adrian\": \"MI\", \"Southport\": \"NC\", \"Stony River\": \"AK\", \"Panguitch\": \"UT\", \"Ephrata\": \"WA\", \"Greeneville\": \"TN\", \"Kent\": \"OH\", \"Terrell\": \"TX\", \"Beaver\": \"AK\", \"Chamberlain\": \"SD\", \"Gaylord\": \"MI\", \"Choteau\": \"MT\", \"Sacramento\": \"CA\", \"Berlin\": \"NH\", \"Manokotak\": \"AK\", \"Twin Hills\": \"AK\", \"Kwigillingok\": \"AK\", \"Lewistown\": \"MT\", \"Redlands\": \"CA\", \"Paducah\": \"KY\", \"Elfin Cove\": \"AK\", \"Seaside\": \"OR\", \"Lexington\": \"NY\", \"Jackman\": \"ME\", \"Olean\": \"NY\", \"Farmingdale\": \"NY\", \"Pauloff Harbor\": \"AK\", \"Clemson\": \"SC\", \"Chanute\": \"KS\", \"Los Banos\": \"CA\", \"Alliance\": \"NE\", \"Venetie\": \"AK\", \"Winfield/Arkansas City\": \"KS\", \"Tarentum\": \"PA\", \"Wilburton\": \"OK\", \"Manchester\": \"NH\", \"Pawtucket\": \"RI\", \"San Juan\": \"PR\", \"Grant\": \"NE\", \"Hartington\": \"NE\", \"Columbus-Starkville-West Point\": \"MS\", \"Seminole\": \"OK\", \"San Martin\": \"CA\", \"Key West\": \"FL\", \"Hattiesburg-Laurel\": \"MS\", \"Shingletown\": \"CA\", \"Manitowish Waters\": \"WI\", \"Hatteras\": \"NC\", \"Grove Hill\": \"AL\", \"Hyder\": \"AK\", \"Lehighton\": \"PA\", \"Mountain City\": \"TN\", \"Del Rio\": \"TX\", \"Heber\": \"UT\", \"Highmore\": \"SD\", \"Johnson\": \"KS\", \"Tioga\": \"ND\", \"Mount Ida\": \"AR\", \"Murdo\": \"SD\", \"Overton\": \"NV\", \"Sylvester\": \"GA\", \"Big Sandy\": \"MT\", \"Westerly\": \"RI\", \"Newport News\": \"VA\", \"Tetlin\": \"AK\", \"Clanton\": \"AL\", \"Deming\": \"NM\", \"Mesquite\": \"TX\", \"Mobridge\": \"SD\", \"Rayville\": \"LA\", \"Parshall\": \"ND\", \"Bay St Louis\": \"MS\", \"Lee Vining\": \"CA\", \"Fairbanks\": \"AK\", \"Delaware\": \"OH\", \"Bogalusa\": \"LA\", \"Drew\": \"MS\", \"Stonington\": \"ME\", \"Duanesburg\": \"NY\", \"Riverside\": \"CA\", \"Brawley\": \"CA\", \"Eastport\": \"ME\", \"Spearfish\": \"SD\", \"South Hill\": \"VA\", \"Oconto\": \"WI\", \"Meeker\": \"CO\", \"Ouzinkie\": \"AK\", \"Asheville\": \"NC\", \"Marietta\": \"GA\", \"Twin Falls\": \"ID\", \"Pensacola\": \"FL\", \"Rawlins\": \"WY\", \"Brookneal\": \"VA\", \"Puyallup\": \"WA\", \"Pagosa Springs\": \"CO\", \"East Liverpool\": \"OH\", \"Davenport\": \"IA\", \"Murieta/Temecula\": \"CA\", \"Atmore\": \"AL\", \"Vandalia\": \"IL\", \"Marshall\": \"MI\", \"Laurel\": \"MS\", \"Kennett\": \"MO\", \"Venice\": \"FL\", \"Cumberland\": \"WI\", \"Ravenna\": \"OH\", \"Forest City\": \"IA\", \"Carrington\": \"ND\", \"Stebbins\": \"AK\", \"Nulato\": \"AK\", \"Park River\": \"ND\", \"Bad Axe\": \"MI\", \"Borrego Springs\": \"CA\", \"Destin\": \"FL\", \"Chandler\": \"OK\", \"Montevideo\": \"MN\", \"Hawk Inlet\": \"AK\", \"Halls Crossing\": \"UT\", \"Nashville\": \"AR\", \"Amarillo\": \"TX\", \"Martinsville\": \"VA\", \"Naknek\": \"AK\", \"Muskegon\": \"MI\", \"North Vernon\": \"IN\", \"Cartersville\": \"GA\", \"Brewton\": \"AL\", \"Du Bois\": \"PA\", \"Anchorage\": \"AK\", \"Geraldine\": \"MT\", \"Kansas City\": \"MO\", \"Kayenta\": \"AZ\", \"Latrobe\": \"PA\", \"Courtland\": \"AL\", \"St Paul\": \"MN\", \"Mosinee\": \"WI\", \"Chenega\": \"AK\", \"Edna/Ganado\": \"TX\", \"Rialto\": \"CA\", \"Hampton\": \"IA\", \"Weaverville\": \"CA\", \"Neligh\": \"NE\", \"Steamboat Springs\": \"CO\", \"Reno\": \"NV\", \"Tillamook\": \"OR\", \"Funter Bay\": \"AK\", \"Wheatland\": \"WY\", \"Thompson Falls\": \"MT\", \"Milwaukee\": \"WI\", \"Williston\": \"FL\", \"Scappoose\": \"OR\", \"Gambell\": \"AK\", \"Richland\": \"WA\", \"Woodland\": \"CA\", \"Provo\": \"UT\", \"Winnsboro\": \"SC\", \"Richton\": \"MS\", \"Block Island\": \"RI\", \"Colby\": \"KS\", \"Tekamah\": \"NE\", \"Santa Rosa\": \"CA\", \"South St Paul\": \"MN\", \"Spartanburg\": \"SC\", \"Hanapepe\": \"HI\", \"Herington\": \"KS\", \"Marana\": \"AZ\", \"Robinson\": \"IL\", \"Marysville\": \"KS\", \"Newcastle\": \"WY\", \"Montauk\": \"NY\", \"Moundsville\": \"WV\", \"Arecibo\": \"PR\", \"Woodbine\": \"NJ\", \"Canon City\": \"CO\", \"Many\": \"LA\", \"Pine Bluff\": \"AR\", \"Chicago/Monee\": \"IL\", \"Ridgeland\": \"SC\", \"Mosby\": \"MO\", \"Plainview\": \"TX\", \"Liberal\": \"KS\", \"Wilkes-Barre/Scranton\": \"PA\", \"Mott\": \"ND\", \"Nikolai\": \"AK\", \"Bellingham\": \"WA\", \"Black River Falls\": \"WI\", \"McComb\": \"MS\", \"Dubois\": \"WY\", \"Belmont\": \"MS\", \"Bloomfield\": \"IA\", \"Sylvania\": \"GA\", \"Troy\": \"AL\", \"London\": \"OH\", \"Lagrange\": \"GA\", \"Holbrook\": \"AZ\", \"Enid\": \"OK\", \"Quinhagak\": \"AK\", \"Perry\": \"GA\", \"Blairstown\": \"NJ\", \"Colorado City\": \"AZ\", \"Greensburg\": \"IN\", \"Monongahela\": \"PA\", \"Madera\": \"CA\", \"Pembina\": \"ND\", \"Port Alsworth\": \"AK\", \"Hearne\": \"TX\", \"Chillicothe\": \"OH\", \"College Park\": \"MD\", \"Kenton\": \"OH\", \"Goose Bay\": \"AK\", \"Ruidoso\": \"NM\", \"Frenchville\": \"ME\", \"Yakima\": \"WA\", \"Washington Court House\": \"OH\", \"Eagle Pass\": \"TX\", \"Monroeville\": \"AL\", \"Ruby\": \"AK\", \"Dinsmore\": \"CA\", \"Bucyrus\": \"OH\", \"Giddings\": \"TX\", \"Wilmington\": \"NC\", \"San Jose\": \"CA\", \"Ripley\": \"MS\", \"Forsyth\": \"MT\", \"Los Alamos\": \"NM\", \"Pikeville\": \"KY\", \"Gasport\": \"NY\", \"Pedro Bay\": \"AK\", \"Orofino\": \"ID\", \"Fort Huachuca-Sierra Vista\": \"AZ\", \"Nahunta\": \"GA\", \"Celina\": \"OH\", \"Inverness\": \"FL\", \"Refugio\": \"TX\", \"Olney-Noble\": \"IL\", \"Leadville\": \"CO\", \"Coatesville\": \"PA\", \"Middletown\": \"OH\", \"St. Petersburg\": \"FL\", \"Bryce Canyon\": \"UT\", \"Fryeburg\": \"ME\", \"Lovington\": \"NM\", \"Ada\": \"OK\", \"Carbondale\": \"IL\", \"Reedsville\": \"PA\", \"De Smet\": \"SD\", \"Winona\": \"MN\", \"Chicago/Schaumburg\": \"IL\", \"Ocean Isle Beach\": \"NC\", \"Weed\": \"CA\", \"Carrizozo\": \"NM\", \"Kendallville\": \"IN\", \"Binghamton\": \"NY\", \"Fort Smith\": \"AR\", \"Olathe\": \"KS\", \"Arco\": \"ID\", \"Vacaville\": \"CA\", \"Shell Lake\": \"WI\", \"Luverne\": \"MN\", \"Dunsmuir\": \"CA\", \"Rantoul\": \"IL\", \"Artesia\": \"NM\", \"Dunellon\": \"FL\", \"Russellville\": \"AR\", \"Little Rock\": \"AR\", \"Devils Lake\": \"ND\", \"Chemehuevi Valley\": \"CA\", \"Ortonville\": \"MN\", \"Greensboro\": \"NC\", \"Diomede\": \"AK\", \"Stockton\": \"CA\", \"Collegeville\": \"PA\", \"New Richmond\": \"WI\", \"Joseph\": \"OR\", \"St. Augustine\": \"FL\", \"Cushing\": \"OK\", \"Bentonville\": \"AR\", \"Leesville\": \"LA\", \"Lancaster\": \"CA\", \"Louisa\": \"VA\", \"Skagway\": \"AK\", \"Hesperia\": \"CA\", \"Morehead\": \"KY\", \"Walsenburg\": \"CO\", \"Idaho Falls\": \"ID\", \"Camilla\": \"GA\", \"Jamestown\": \"KY\", \"Gatesville\": \"TX\", \"Dumas\": \"TX\", \"Springfield\": \"SD\", \"Mora\": \"MN\", \"Garland\": \"TX\", \"Gilmer\": \"TX\", \"Worthington\": \"MN\", \"Avalon\": \"CA\", \"Atlantic\": \"IA\", \"Dorris\": \"CA\", \"Chalkyitsik\": \"AK\", \"Goodland\": \"KS\", \"Marthas Vineyard\": \"MA\", \"Malvern\": \"AR\", \"Quitman\": \"GA\", \"Johnstown\": \"NY\", \"Viroqua\": \"WI\", \"Robstown\": \"TX\", \"Omaha\": \"NE\", \"Wendover\": \"UT\", \"Plymouth\": \"MA\", \"Pekin\": \"IL\", \"Mt. Sterling\": \"IL\", \"Mojave\": \"CA\", \"New Haven\": \"CT\", \"Cuthbert\": \"GA\", \"Redwood Falls\": \"MN\", \"Juneau\": \"WI\", \"Moorhead\": \"MN\", \"Navajo Dam\": \"NM\", \"La Porte\": \"TX\", \"Point Lay\": \"AK\", \"Dyersburg\": \"TN\", \"St George\": \"UT\", \"Delphi\": \"IN\", \"Crownpoint\": \"NM\", \"Meadville\": \"PA\", \"Chadron\": \"NE\", \"Wayne\": \"NE\", \"Blakely\": \"GA\", \"Minot\": \"ND\", \"Renton\": \"WA\", \"Coldfoot\": \"AK\", \"Ennis\": \"TX\", \"Newnan\": \"GA\", \"Grove City\": \"PA\", \"Chiloquin\": \"OR\", \"Batesville\": \"AR\", \"Flagstaff\": \"AZ\", \"Nogales\": \"AZ\", \"Ellijay\": \"GA\", \"Hancock\": \"MI\", \"Eastsound\": \"WA\", \"Erwin\": \"NC\", \"Dillingham\": \"AK\", \"Sebastian\": \"FL\", \"Akutan\": \"AK\", \"Bolivar\": \"MO\", \"Beaumont\": \"TX\", \"Oakes\": \"ND\", \"Napoleon\": \"OH\", \"Allakaket\": \"AK\", \"New Ulm\": \"MN\", \"Maxton\": \"NC\", \"San Andreas\": \"CA\", \"Lanett\": \"AL\", \"Durant\": \"OK\", \"Selawik\": \"AK\", \"Crossville\": \"TN\", \"Willow\": \"AK\", \"Ness City\": \"KS\", \"Denver\": \"CO\", \"Hilliard\": \"FL\", \"Ormond Beach\": \"FL\", \"Circle\": \"AK\", \"Lake Placid\": \"NY\", \"South Haven\": \"MI\", \"Chicago/Harvard\": \"IL\", \"Toksook Bay\": \"AK\", \"Crockett\": \"TX\", \"Camarillo\": \"CA\", \"Stillwater\": \"OK\", \"Sterling\": \"CO\", \"Golovin\": \"AK\", \"Susanville\": \"CA\", \"Iowa City\": \"IA\", \"Fallon\": \"NV\", \"Dowagiac\": \"MI\", \"Metropolis\": \"IL\", \"Eagle Lake\": \"TX\", \"Red Wing\": \"MN\", \"Ankeny\": \"IA\", \"Pilot Point\": \"AK\", \"Spencer\": \"IA\", \"Lyons\": \"KS\", \"Roanoke Rapids\": \"NC\", \"Clark\": \"SD\", \"Walla Walla\": \"WA\", \"Clare\": \"MI\", \"Northampton\": \"MA\", \"Scott City\": \"KS\", \"Mt. Gilead\": \"OH\", \"Auburn-Lewiston\": \"ME\", \"Maquoketa\": \"IA\", \"Limon\": \"CO\", \"Milledgeville\": \"GA\", \"Clarksdale\": \"MS\", \"Metter\": \"GA\", \"Reform\": \"AL\", \"Pendleton\": \"OR\", \"Chicopee\": \"MA\", \"English Bay\": \"AK\", \"Sand Springs\": \"OK\", \"Tonopah\": \"NV\", \"Canton\": \"SD\", \"Richmond\": \"IN\", \"Tok\": \"AK\", \"Louisville\": \"KY\", \"Mountain Village\": \"AK\", \"Vidalia\": \"GA\", \"Tenakee Springs\": \"AK\", \"Columbus\": \"MS\", \"Buena Vista\": \"CO\", \"Niles\": \"MI\", \"Cadillac\": \"MI\", \"Alabaster\": \"AL\", \"Guthrie\": \"OK\", \"White Mountain\": \"AK\", \"Beatty\": \"NV\", \"Ozark\": \"AR\", \"Kingstree\": \"SC\", \"Junction City\": \"KS\", \"Manville\": \"NJ\", \"Hopkinsville\": \"KY\", \"Rifle\": \"CO\", \"Dauphin Island\": \"AL\", \"Hill City\": \"KS\", \"Adel\": \"GA\", \"Smyrna\": \"TN\", \"Purcell\": \"OK\", \"Hallock\": \"MN\", \"Greenfield\": \"IA\", \"Pottsville\": \"PA\", \"Bowling Green\": \"MO\", \"Byron\": \"CA\", \"Thorne Bay\": \"AK\", \"Owatonna\": \"MN\", \"Sabetha\": \"KS\", \"Oklahoma City\": \"OK\", \"Gallatin\": \"TN\", \"Denton\": \"TX\", \"Coolidge\": \"AZ\", \"Martinsburg\": \"WV\", \"St Francis\": \"KS\", \"Bloomsburg\": \"PA\", \"Fair Haven\": \"VT\", \"Coleman\": \"TX\", \"Glasgow\": \"KY\", \"Uvalde\": \"TX\", \"Ft. Lauderdale\": \"FL\", \"Wadena\": \"MN\", \"Centralia\": \"IL\", \"Sylacauga\": \"AL\", \"Labelle\": \"FL\", \"McDermitt\": \"OR\", \"Ukiah\": \"CA\", \"Chattanooga\": \"TN\", \"Watonga\": \"OK\", \"Cheboygan\": \"MI\", \"Aitkin\": \"MN\", \"Compton\": \"CA\", \"Caddo Mills\": \"TX\", \"Cabool\": \"MO\", \"Washington Island\": \"WI\", \"Petaluma\": \"CA\", \"Sevierville\": \"TN\", \"Le Roy\": \"NY\", \"St Ignace\": \"MI\", \"Fort Yates\": \"ND\", \"Aiken\": \"SC\", \"Northway\": \"AK\", \"Mexico\": \"MO\", \"Dillon\": \"MT\", \"Kaiser/Lake Ozark\": \"MO\", \"Logan\": \"UT\", \"Winamac\": \"IN\", \"Chowchilla\": \"CA\", \"Marathon\": \"FL\", \"Chicago/Joliet\": \"IL\", \"Rolla/Vichy\": \"MO\", \"Ruston\": \"LA\", \"Wickenburg\": \"AZ\", \"Lansing\": \"MI\", \"Afton\": \"WY\", \"Dixon\": \"IL\", \"Pickens\": \"SC\", \"Brunswick\": \"GA\", \"Smithfield\": \"NC\", \"Wenatchee\": \"WA\", \"Hazleton\": \"PA\", \"Hartselle\": \"AL\", \"West Yellowstone\": \"MT\", \"Hannibal\": \"MO\", \"Nucla\": \"CO\", \"Prospect Creek\": \"AK\", \"Monticello\": \"UT\", \"Kaltag\": \"AK\", \"Carnegie\": \"OK\", \"Fort Wayne\": \"IN\", \"Carmi\": \"IL\", \"Unalakleet\": \"AK\", \"Hamburg\": \"NY\", \"LaFayette\": \"GA\", \"Wetumpka\": \"AL\", \"Leesburg\": \"FL\", \"Tifton\": \"GA\", \"Kimball\": \"NE\", \"Edinburg\": \"TX\", \"Kotlik\": \"AK\", \"Muscle Shoals\": \"AL\", \"Oxford\": \"MS\", \"Anaktuvuk Pass\": \"AK\", \"Harbor Springs\": \"MI\", \"Carrizo Springs\": \"TX\", \"New Madrid\": \"MO\", \"Seward\": \"NE\", \"Brevig Mission\": \"AK\", \"Lantana\": \"FL\", \"Berryville\": \"AR\", \"Henryetta\": \"OK\", \"Savannah\": \"TN\", \"Globe\": \"AZ\", \"Newton\": \"IA\", \"Newtok\": \"AK\", \"Toms River\": \"NJ\", \"Council\": \"ID\", \"Wapakoneta\": \"OH\", \"Effingham\": \"IL\", \"Tulia\": \"TX\", \"Waseca\": \"MN\", \"Old Harbor\": \"AK\", \"Jefferson\": \"IA\", \"Plattsmouth\": \"NE\", \"Granville\": \"NY\", \"Windsor Locks\": \"CT\", \"Falls City\": \"NE\", \"Flat\": \"AK\", \"Selinsgrove\": \"PA\", \"Van Horn\": \"TX\", \"Abilene.\": \"KS\", \"Everett\": \"WA\", \"Hawthorne\": \"NV\", \"Dubuque\": \"IA\", \"Girdwood\": \"AK\", \"Deering\": \"AK\", \"Lake Wales\": \"FL\", \"Hoonah\": \"AK\", \"Kosciusko\": \"MS\", \"Pineville\": \"WV\", \"Granby\": \"CO\", \"Pine Mountain\": \"GA\", \"Littlefield\": \"TX\", \"Patterson\": \"LA\", \"Parsons\": \"KS\", \"Kitoi Bay\": \"AK\", \"Siloam Springs\": \"AR\", \"Tucson\": \"AZ\", \"Jordan\": \"MT\", \"Galbraith Lake\": \"AK\", \"Hereford\": \"TX\", \"Bamburg\": \"SC\", \"Norridgewock\": \"ME\", \"Tununak\": \"AK\", \"Red Hook\": \"NY\", \"Brainerd\": \"MN\", \"Boston\": \"MA\", \"Kokhanok\": \"AK\", \"Batavia\": \"OH\", \"Eloy\": \"AZ\", \"Bandon\": \"OR\", \"Selma\": \"AL\", \"Prattville\": \"AL\", \"Hugo\": \"OK\", \"Asheboro\": \"NC\", \"Fort Collins/Loveland\": \"CO\", \"Ocala\": \"FL\", \"Grandfield\": \"OK\", \"Kailua/Kona\": \"HI\", \"Cuero\": \"TX\", \"Elkhart\": \"IN\", \"Hana\": \"HI\", \"Fayette\": \"AL\", \"Hardinsburg\": \"KY\", \"Great Falls\": \"MT\", \"Delta\": \"UT\", \"Vincentown\": \"NJ\", \"Sioux City\": \"IA\", \"Paoli\": \"IN\", \"Adams/Friendship\": \"WI\", \"Grand Junction\": \"CO\", \"Mulino (Portland)\": \"OR\", \"Quanah\": \"TX\", \"Ottawa\": \"OH\", \"Kahului\": \"HI\", \"Prosser\": \"WA\", \"Daggett\": \"CA\", \"Vero Beach\": \"FL\", \"Rocky Mount\": \"NC\", \"Inyokern\": \"CA\", \"Fitiuta Village\": \"AS\", \"Stevens Point\": \"WI\", \"Concordia\": \"KS\", \"White Cloud\": \"MI\", \"North Bass Island\": \"OH\", \"Stevens Village\": \"AK\", \"Wynne\": \"AR\", \"Rockwall\": \"TX\", \"Windom\": \"MN\", \"Waterville\": \"ME\", \"Redfield\": \"SD\", \"Peach Springs\": \"AZ\", \"Kountze/Silsbee\": \"TX\", \"Douglas\": \"GA\", \"Ajo\": \"AZ\", \"Pilot Station\": \"AK\", \"Ekalaka\": \"MT\", \"Grafton\": \"ND\", \"Allendale\": \"SC\", \"Othello\": \"WA\", \"Falfurrias\": \"TX\", \"Sheboygan\": \"WI\", \"Kenai\": \"AK\", \"Rio Linda\": \"CA\", \"Teller\": \"AK\", \"Fordyce\": \"AR\", \"Paola\": \"KS\", \"Vega\": \"TX\", \"Lafayette\": \"LA\", \"Tahlequah\": \"OK\", \"Manassas\": \"VA\", \"Ainsworth\": \"NE\", \"Santa Teresa\": \"NM\", \"Blue Earth\": \"MN\", \"International Falls\": \"MN\", \"Canandaiga\": \"NY\", \"North Wilkesboro\": \"NC\", \"Huntingdon\": \"TN\", \"Sweetwater\": \"TX\", \"Hillsboro (Portland)\": \"OR\", \"Zelienople\": \"PA\", \"Kwethluk\": \"AK\", \"Cornelia\": \"GA\", \"Prairie Du Sac\": \"WI\", \"Point Hope\": \"AK\", \"Malden\": \"MO\", \"Colfax\": \"WA\", \"San Diego\": \"CA\", \"Kremmling\": \"CO\", \"Bullhead City\": \"AZ\", \"Clarksville\": \"AR\", \"Doylestown\": \"PA\", \"Hoquiam\": \"WA\", \"Hilo\": \"HI\", \"Palestine\": \"TX\", \"Henderson\": \"TX\", \"Port Alexander\": \"AK\", \"Creswell\": \"OR\", \"Blairsville\": \"GA\", \"Tulsa\": \"OK\", \"Ofu Village\": \"AS\", \"Dalhart\": \"TX\", \"Melfa\": \"VA\", \"Russian Mission\": \"AK\", \"Ann Arbor\": \"MI\", \"Libby\": \"MT\", \"Beaumont/Port Arthur\": \"TX\", \"Morgantown\": \"WV\", \"Bedford\": \"PA\", \"Monahans\": \"TX\", \"Pascagoula\": \"MS\", \"Upper Sandusky\": \"OH\", \"Dublin\": \"VA\", \"Barre-Montpelier\": \"VT\", \"Cedar Rapids\": \"IA\", \"Oak Grove\": \"LA\", \"Keene\": \"NH\", \"Olympia\": \"WA\", \"Portales\": \"NM\", \"Chickasha\": \"OK\", \"Minneapolis\": \"MN\", \"Warrenton\": \"VA\", \"Kasaan\": \"AK\", \"Marion\": \"IN\", \"Dalton\": \"GA\", \"Huron\": \"SD\", \"White Plains\": \"NY\", \"Rochester\": \"MN\", \"Nome\": \"AK\", \"Parkersburg\": \"WV\", \"Knoxville\": \"IA\", \"Moab\": \"UT\", \"Laramie\": \"WY\", \"Cullman\": \"AL\", \"Old Town\": \"ME\", \"Friday Harbor\": \"WA\", \"Cheyenne\": \"WY\", \"San Francisco\": \"CA\", \"Hinton\": \"OK\", \"Valley City\": \"ND\", \"Appleton\": \"WI\", \"Eupora\": \"MS\", \"Gruver\": \"TX\", \"Pontiac\": \"MI\", \"Tullahoma\": \"TN\", \"Wausau\": \"WI\", \"Okeene\": \"OK\", \"Manistee\": \"MI\", \"Blair\": \"NE\", \"Cedar City\": \"UT\", \"New Orleans\": \"LA\", \"Keokuk\": \"IA\", \"Hyannis\": \"MA\", \"Terry\": \"MT\", \"Nelson Lagoon\": \"AK\", \"Alturas\": \"CA\", \"Yuma\": \"AZ\", \"Rancho Murieta\": \"CA\", \"Cadiz\": \"OH\", \"Arcata/Eureka\": \"CA\", \"Truth Or Consequences\": \"NM\", \"Pullman/Moscow,ID\": \"WA\", \"Belen\": \"NM\", \"Tuskegee\": \"AL\", \"Fulton\": \"NY\", \"Ketchikan\": \"AK\", \"Battle Creek\": \"MI\", \"Buckhannon\": \"WV\", \"McGehee\": \"AR\", \"Dawson\": \"GA\", \"Trinidad\": \"CO\", \"Graham\": \"TX\", \"Madisonville\": \"TN\", \"La Grange\": \"TX\", \"Beardstown\": \"IL\", \"Sidney\": \"NE\", \"Oneonta\": \"NY\", \"Bellaire\": \"MI\", \"Americus\": \"GA\", \"Santa Ana\": \"CA\", \"Eagle River\": \"WI\", \"Bethel\": \"AK\", \"Hooper Bay\": \"AK\", \"Saluda\": \"SC\", \"Brockport\": \"NY\", \"Caro\": \"MI\", \"Lubbock\": \"TX\", \"Chandalar Lake\": \"AK\", \"Burwell\": \"NE\", \"Moberly\": \"MO\", \"Tuluksak\": \"AK\", \"Demopolis\": \"AL\", \"Healdsburg\": \"CA\", \"Sumter\": \"SC\", \"Corinth\": \"MS\", \"Mayfield\": \"KY\", \"Rutland\": \"VT\", \"Oelwein\": \"IA\", \"Smith Center\": \"KS\", \"Ganado\": \"AZ\", \"Coffman Cove\": \"AK\", \"Salem\": \"IL\", \"Springerville\": \"AZ\", \"Palmyra\": \"WI\", \"Walters\": \"OK\", \"Bennettsville\": \"SC\", \"Kalskag\": \"AK\", \"Park Rapids\": \"MN\", \"Kenansville\": \"NC\", \"Bismarck\": \"ND\", \"Oakley\": \"KS\", \"Pulaski\": \"TN\", \"Rochelle\": \"IL\", \"Saginaw - H.Browne\": \"MI\", \"Cassville\": \"MO\", \"Foley\": \"AL\", \"Half Moon Bay\": \"CA\", \"Panaca\": \"NV\", \"Norwich\": \"NY\", \"Pipestone\": \"MN\", \"Luka\": \"MS\", \"Hemet\": \"CA\", \"Faribault\": \"MN\", \"Oshkosh\": \"WI\", \"Fort Leonard Wood\": \"MO\", \"Odessa\": \"WA\", \"Waukesha\": \"WI\", \"Faith\": \"SD\", \"Mapleton\": \"IA\", \"Nebraska City\": \"NE\", \"Mountain Home\": \"ID\", \"Raleigh\": \"NC\", \"Silver Springs\": \"NV\", \"Glendale\": \"AZ\", \"Goodnews\": \"AK\", \"South Lake Tahoe\": \"CA\", \"Port Graham\": \"AK\", \"Miller\": \"SD\", \"Oswego\": \"KS\", \"Big Lake\": \"AK\", \"De Ridder\": \"LA\", \"Millen\": \"GA\", \"Dekalb\": \"IL\", \"Price\": \"UT\", \"Birch Creek\": \"AK\", \"Roanoke\": \"VA\", \"Albany\": \"OR\", \"Mount Sterling\": \"KY\", \"Shelton\": \"WA\", \"Cahokia/St. Louis\": \"IL\", \"Rockwood\": \"TN\", \"Titusville\": \"FL\", \"Hobbs\": \"NM\", \"Sallisaw\": \"OK\", \"Jackpot\": \"NV\", \"Hollandale\": \"MS\", \"Live Oak\": \"FL\", \"La Junta\": \"CO\", \"Coushatta\": \"LA\", \"Fort Yukon\": \"AK\", \"Marina\": \"CA\", \"Blackwell-Tonkawa\": \"OK\", \"Little River\": \"CA\", \"Ronan\": \"MT\", \"Boscobel\": \"WI\", \"Durhamville\": \"NY\", \"Tea\": \"SD\", \"La Moure (New Site)\": \"ND\", \"Harlem\": \"MT\", \"Alexandria\": \"MN\", \"Cincinnati\": \"OH\", \"Salida\": \"CO\", \"Philipsburg\": \"MT\", \"Clearwater\": \"FL\", \"San Luis Obispo\": \"CA\", \"Elkin\": \"NC\", \"Corsicana\": \"TX\", \"Guymon\": \"OK\", \"Rock Hill\": \"SC\", \"Plains\": \"MT\", \"Breckenridge\": \"TX\", \"Massena\": \"NY\", \"Napa\": \"CA\", \"Cleburne\": \"TX\", \"Muncie\": \"IN\", \"Dansville\": \"NY\", \"Twin Bridges\": \"MT\", \"Murfreesboro\": \"TN\", \"Grayling\": \"AK\", \"Lyndonville\": \"VT\", \"Pittsburgh\": \"PA\", \"Albuquerque\": \"NM\", \"Cross Keys\": \"NJ\", \"Flandreau\": \"SD\", \"St James\": \"MI\", \"Cloquet\": \"MN\", \"Sewanee\": \"TN\", \"Ogden\": \"UT\", \"Lynchburg\": \"VA\", \"Rosalia\": \"WA\", \"Galliano\": \"LA\", \"Brady\": \"TX\", \"Sandersville\": \"GA\", \"Slaton\": \"TX\", \"Benton\": \"AR\", \"Sturgeon Bay\": \"WI\", \"Farmerville\": \"LA\", \"Cascade\": \"ID\", \"Chicago/Romeoville\": \"IL\", \"Bartow\": \"FL\", \"Davis\": \"CA\", \"Christmas Valley\": \"OR\", \"Taylor\": \"AZ\", \"Saratoga\": \"WY\", \"Altus\": \"OK\", \"Shawano\": \"WI\", \"Red Oak\": \"IA\", \"Elizabethtown\": \"KY\", \"Greencastle\": \"IN\", \"Anvik\": \"AK\", \"Fabens\": \"TX\", \"Emporia\": \"VA\", \"Midland\": \"TX\", \"Carthage\": \"TX\", \"Islip\": \"NY\", \"Urbana\": \"OH\", \"Ponce\": \"PR\", \"Gage\": \"OK\", \"Ely\": \"NV\", \"Gallipolis\": \"OH\", \"Tylertown\": \"MS\", \"Corvallis\": \"OR\", \"Pella\": \"IA\", \"San Bernardino\": \"CA\", \"False Pass\": \"AK\", \"Boulder\": \"CO\", \"Coshocton\": \"OH\", \"Findlay\": \"OH\", \"Norman\": \"OK\", \"Manistique\": \"MI\", \"Baton Rouge\": \"LA\", \"South Sioux City\": \"NE\", \"Anthony\": \"KS\", \"Sutton\": \"WV\", \"Water Valley\": \"MS\", \"Abbeville\": \"LA\", \"Fort Bridger\": \"WY\", \"Boca Raton\": \"FL\", \"Kankakee\": \"IL\", \"Plentywood\": \"MT\", \"Natchez\": \"MS\", \"Osceola\": \"WI\", \"Franklin\": \"CA\", \"Chinle\": \"AZ\", \"Grenada\": \"MS\", \"Lewiston\": \"ID\", \"Austin\": \"TX\", \"Port Lions\": \"AK\", \"Lovelock\": \"NV\", \"Iowa Falls\": \"IA\", \"Crooked Creek\": \"AK\", \"Lawrenceville\": \"GA\", \"Woodward\": \"OK\", \"Preston\": \"ID\", \"Ironwood\": \"MI\", \"Murray\": \"KY\", \"Santa Ynez\": \"CA\", \"Helena\": \"MT\", \"Grundy\": \"VA\", \"Tanana\": \"AK\", \"Florence\": \"SC\", \"Chicago/Lansing\": \"IL\", \"Wahoo\": \"NE\", \"Pine Ridge\": \"SD\", \"Selmer\": \"TN\", \"Lock Haven\": \"PA\", \"Skwentna\": \"AK\", \"Willits\": \"CA\", \"Loup City\": \"NE\", \"Springhill\": \"LA\", \"Manhattan\": \"KS\", \"Versailles\": \"OH\", \"Napakiak\": \"AK\", \"Haines\": \"AK\", \"Curtis\": \"NE\", \"Ramona\": \"CA\", \"Hazen\": \"ND\", \"Meridian\": \"MS\", \"New Iberia\": \"LA\", \"Andrews\": \"SC\", \"West Liberty\": \"KY\", \"Eugene\": \"OR\", \"Platte\": \"SD\", \"Carson City\": \"NV\", \"Crestview\": \"FL\", \"Stanford\": \"MT\", \"Wahpeton\": \"ND\", \"West Plains\": \"MO\", \"Osage Beach\": \"MO\", \"No Lit Rock\": \"AR\", \"Eau Claire\": \"WI\", \"Merced\": \"CA\", \"Comanche\": \"TX\", \"Riverton\": \"WY\", \"Taft\": \"CA\", \"Kanab\": \"UT\", \"Taunton\": \"MA\", \"Tatitlek\": \"AK\", \"Seldovia\": \"AK\", \"Dodge Center\": \"MN\", \"Chisana\": \"AK\", \"Stamford\": \"TX\", \"Crete\": \"NE\", \"Turner\": \"MT\", \"Oakland\": \"CA\", \"Warsaw\": \"IN\", \"Old Bridge\": \"NJ\", \"McAlester\": \"OK\", \"Brewster\": \"WA\", \"Beeville\": \"TX\", \"Bonifay\": \"FL\", \"McLaughlin\": \"SD\", \"Bessemer\": \"AL\", \"Lake City\": \"FL\", \"Benchmark\": \"MT\", \"Platteville\": \"WI\", \"Alpena\": \"MI\", \"Willoughby\": \"OH\", \"Nuiqsut\": \"AK\", \"Kellogg\": \"ID\", \"Shelter Cove\": \"CA\", \"Ellenville\": \"NY\", \"Waynesboro\": \"GA\", \"Sulphur\": \"LA\", \"Keystone Heights\": \"FL\", \"Williamston\": \"NC\", \"Holland\": \"MI\", \"Canadian\": \"TX\", \"North Bend\": \"OR\", \"Three Forks\": \"MT\", \"St. Mary's\": \"AK\", \"Reedley\": \"CA\", \"Cando\": \"ND\", \"Honesdale\": \"PA\", \"Chico\": \"CA\", \"Medford\": \"OK\", \"Caldwell (Boise)\": \"ID\", \"Charlotte\": \"NC\", \"Wallkill\": \"NY\", \"Wells\": \"NV\", \"Grinnell\": \"IA\", \"Rice Lake\": \"WI\", \"Manning\": \"SC\", \"Lakeview\": \"OR\", \"Eldon\": \"MO\", \"Iola\": \"KS\", \"New Bern\": \"NC\", \"Aleknagik\": \"AK\", \"Seattle\": \"WA\", \"Griffith\": \"IN\", \"Hebbronville\": \"TX\", \"Palmdale\": \"CA\", \"Grand Island\": \"NE\", \"Winchester\": \"VA\", \"Howard\": \"SD\", \"Allentown\": \"PA\", \"Paradise\": \"CA\", \"Death Valley National Park\": \"CA\", \"Lakota\": \"ND\", \"Tishomingo\": \"OK\", \"Newberg\": \"OR\", \"Swainsboro\": \"GA\", \"Spokane\": \"WA\", \"Somerset\": \"KY\", \"Norway\": \"ME\", \"Raton\": \"NM\", \"Ocean City\": \"MD\", \"Oceanside\": \"CA\", \"Delta Junction\": \"AK\", \"Hammond\": \"LA\", \"Orr\": \"MN\", \"Linn\": \"MO\", \"Stilwell\": \"OK\", \"Butte\": \"MT\", \"Ord\": \"NE\", \"Wrens\": \"GA\", \"Morrisville\": \"VT\", \"Kerrville\": \"TX\", \"Red Lodge\": \"MT\", \"Greer\": \"SC\", \"Cedartown\": \"GA\", \"Missoula\": \"MT\", \"Ontonagon\": \"MI\", \"Redmond\": \"OR\", \"Marlette\": \"MI\", \"Gwinn\": \"MI\", \"Moultrie\": \"GA\", \"Terre Haute\": \"IN\", \"Houghton Lake\": \"MI\", \"Stigler\": \"OK\", \"Bastrop\": \"LA\", \"Charlotte Amalie\": \"VI\", \"Carlsbad\": \"CA\", \"The Dalles\": \"OR\", \"Middlebury\": \"VT\", \"Magnolia\": \"AR\", \"Ft. Pierce\": \"FL\", \"Clovis\": \"NM\", \"Manila\": \"AR\", \"Beaver Falls\": \"PA\", \"Wiseman\": \"AK\", \"Panama City\": \"FL\", \"Donalsonville\": \"GA\", \"Indianapolis\": \"IN\", \"New Philadelphia\": \"OH\", \"Mountain View\": \"MO\", \"Lago Vista\": \"TX\", \"Punxsutawney\": \"PA\", \"Albertville\": \"AL\", \"Valdosta\": \"GA\", \"Yerington\": \"NV\", \"Eastman\": \"GA\", \"Memphis\": \"TN\", \"Sandusky\": \"MI\", \"Edenton\": \"NC\", \"St Elmo\": \"AL\", \"Eastland\": \"TX\", \"Temple Bar\": \"AZ\", \"Calhoun\": \"GA\", \"Roxboro\": \"NC\", \"North Myrtle Beach\": \"SC\", \"Unalaska\": \"AK\", \"Creighton\": \"NE\", \"Savanna\": \"IL\", \"Truckee\": \"CA\", \"Albion\": \"NE\", \"Lordsburg\": \"NM\", \"Oxnard\": \"CA\", \"Birmingham\": \"AL\", \"Coldwater\": \"MI\", \"Marfa\": \"TX\", \"Buckeye\": \"AZ\", \"Fort Benton\": \"MT\", \"Nevada\": \"MO\", \"Karluk\": \"AK\", \"Hattiesburg\": \"MS\", \"Show Low\": \"AZ\", \"Weslaco\": \"TX\", \"Thedford\": \"NE\", \"Poplar Grove\": \"IL\", \"Condon\": \"OR\", \"Moline\": \"IL\", \"Williamson\": \"WV\", \"Rockwell City\": \"IA\", \"Tooele\": \"UT\", \"Valkaria\": \"FL\", \"Clayton\": \"NM\", \"Palacios\": \"TX\", \"Woodlake\": \"CA\", \"Reading\": \"PA\", \"Oroville\": \"CA\", \"Two Harbors\": \"MN\", \"Millinocket\": \"ME\", \"Holdredge\": \"NE\", \"Bayport\": \"NY\", \"Baraboo\": \"WI\", \"Colstrip\": \"MT\", \"Wheeling\": \"WV\", \"St Marys\": \"PA\", \"Tallahassee\": \"FL\", \"Nashua\": \"NH\", \"Fairmont\": \"MN\", \"Grangeville\": \"ID\", \"Koliganek\": \"AK\", \"Hibbing\": \"MN\", \"Iliamna\": \"AK\", \"Wautoma\": \"WI\", \"Schenectady\": \"NY\", \"Englehard\": \"NC\", \"Gonzales\": \"LA\", \"Orland\": \"CA\", \"Fitzgerald\": \"GA\", \"Buckland\": \"AK\", \"Seneca Falls\": \"NY\", \"Siletz Bay (Gleneden Beach)\": \"OR\", \"Warwick\": \"NY\", \"Hooker\": \"OK\", \"Bluffton\": \"OH\", \"Walhalla\": \"ND\", \"Stanton\": \"KY\", \"Alexander City\": \"AL\", \"Medfra\": \"AK\", \"Larned\": \"KS\", \"Sterling Rockfalls\": \"IL\", \"Baxley\": \"GA\", \"Conroe\": \"TX\", \"Troy/Marine/St. Louis\": \"IL\", \"Magdalena\": \"NM\", \"Horseshoe Bend\": \"AR\", \"Miami\": \"OK\", \"San Diego (El Cajon)\": \"CA\", \"New Hudson\": \"MI\", \"Mooreland\": \"OK\", \"Port Huron\": \"MI\", \"Adak\": \"AK\", \"Topeka\": \"KS\", \"Isla De Vieques\": \"PR\", \"Kewanee\": \"IL\", \"Chandalar Camp\": \"AK\", \"Heber Springs\": \"AR\", \"Newburgh\": \"NY\", \"Arkadelphia\": \"AR\", \"Lake Providence\": \"LA\", \"Clifton-Morenci\": \"AZ\", \"Chelan\": \"WA\", \"Blytheville\": \"AR\", \"Garnett\": \"KS\", \"Platinum\": \"AK\", \"Belle Plaine\": \"IA\", \"Dallas/Addison\": \"TX\", \"Fishers Island\": \"NY\", \"West Branch\": \"MI\", \"Liberty\": \"TX\", \"Monett\": \"MO\", \"Wasilla\": \"AK\", \"Kamiah\": \"ID\", \"Hayward\": \"WI\", \"Evergreen\": \"AL\", \"Junction\": \"TX\", \"Broken Bow\": \"NE\", \"Claremont\": \"NH\", \"Sussex\": \"NJ\", \"Manti\": \"UT\", \"Cimarron\": \"KS\", \"Hilton Head Island\": \"SC\", \"Pelion\": \"SC\", \"Rhinelander\": \"WI\", \"Salt Lake City\": \"UT\", \"Chino\": \"CA\", \"Alpine\": \"TX\", \"Santa Monica\": \"CA\", \"Ogallala\": \"NE\", \"Grove\": \"OK\", \"Grass Valley\": \"CA\", \"Rush City\": \"MN\", \"Mokuleia\": \"HI\", \"Alva\": \"OK\", \"Buffalo\": \"WY\", \"Minchumina\": \"AK\", \"Angola\": \"NY\", \"Thomasville\": \"GA\", \"Brownfield\": \"TX\", \"Lawrence\": \"MA\", \"Jesup\": \"GA\", \"Sulphur Springs\": \"TX\", \"Middleton\": \"WI\", \"Driggs\": \"ID\", \"Sarasota\": \"FL\", \"Wadsworth\": \"OH\", \"Le Sueur\": \"MN\", \"Belle Fourche\": \"SD\", \"Belfast\": \"ME\", \"Tarkio\": \"MO\", \"Lufkin\": \"TX\", \"Gibson City\": \"IL\", \"Gladewater\": \"TX\", \"Dickinson\": \"ND\", \"Waynoka\": \"OK\", \"Mt Carmel\": \"IL\", \"Helena-West Helena\": \"AR\", \"Centre\": \"AL\", \"Colville\": \"WA\", \"Rogers City\": \"MI\", \"Shenandoah\": \"IA\", \"Van Wert\": \"OH\", \"Clarinda\": \"IA\", \"Garberville\": \"CA\", \"Hawi\": \"HI\", \"Camdenton\": \"MO\", \"Gulf Shores\": \"AL\", \"Lincoln\": \"MT\", \"Boardman\": \"OR\", \"Midlothian-Waxahachie\": \"TX\", \"Mackinac Island\": \"MI\", \"Laconia\": \"NH\", \"Roosevelt\": \"UT\", \"Picayune\": \"MS\", \"Soldotna\": \"AK\", \"Waycross\": \"GA\", \"Lawton\": \"OK\", \"Hastings\": \"NE\", \"Belmar/Farmingdale\": \"NJ\", \"Llano\": \"TX\", \"Rapid City\": \"SD\", \"Brownwood\": \"TX\", \"Galax\": \"VA\", \"Auburn\": \"WA\", \"Farmville\": \"VA\", \"New York\": \"NY\", \"Casper\": \"WY\", \"Telida\": \"AK\", \"Lima\": \"OH\", \"Green Bay\": \"WI\", \"Gillette\": \"WY\", \"Abilene\": \"TX\", \"Holtville\": \"CA\", \"Mt Pleasant\": \"SC\", \"Elko\": \"NV\", \"Westminster\": \"MD\", \"Akiak\": \"AK\", \"Ephraim\": \"WI\", \"Chicago/Greenwood/Wonderlake\": \"IL\", \"Silver Bay\": \"MN\", \"Atchison\": \"KS\", \"Fosston\": \"MN\", \"Leonardtown\": \"MD\", \"Connersville\": \"IN\", \"Higginsville\": \"MO\", \"Decatur\": \"IL\", \"Cold Bay\": \"AK\", \"Poplar Bluff\": \"MO\", \"Pueblo\": \"CO\", \"Sheridan\": \"WY\", \"Pago Pago\": \"AS\", \"Danielson\": \"CT\", \"Storm Lake\": \"IA\", \"Janesville\": \"WI\", \"Madill\": \"OK\", \"Flippin\": \"AR\", \"Bangor\": \"ME\", \"Cashmere\": \"WA\", \"John Day\": \"OR\", \"Gregory\": \"SD\", \"Rock Springs\": \"WY\", \"Ottumwa\": \"IA\", \"Reserve\": \"NM\", \"Turlock\": \"CA\", \"Prague\": \"OK\", \"Union City\": \"TN\", \"Claremore\": \"OK\", \"Deadhorse\": \"AK\", \"Nantucket\": \"MA\", \"Wellsville\": \"NY\", \"Myrtle Beach\": \"SC\", \"Chase City\": \"VA\", \"Kamuela\": \"HI\", \"Bishop\": \"CA\", \"Clearfield\": \"PA\", \"Baker City\": \"OR\", \"Reedsburg\": \"WI\", \"St. George\": \"AK\", \"Cordele\": \"GA\", \"Paris\": \"TX\", \"Pontotoc\": \"MS\", \"Huslia\": \"AK\", \"Cordell\": \"OK\", \"Emmetsburg\": \"IA\", \"Morristown\": \"TN\", \"Marshalltown\": \"IA\", \"Denison\": \"IA\", \"Independence\": \"IA\", \"Cibecue\": \"AZ\", \"Mahnomen\": \"MN\", \"Hornell\": \"NY\", \"Lost Hills\": \"CA\", \"Needles\": \"CA\", \"York\": \"PA\", \"Dickson\": \"TN\", \"Southbridge\": \"MA\", \"Woodsfield\": \"OH\", \"Atoka\": \"OK\", \"Caruthersville\": \"MO\", \"Homer\": \"AK\", \"St Clair\": \"MO\", \"Lime Village\": \"AK\", \"Saginaw\": \"MI\", \"Grand Canyon\": \"AZ\", \"King City\": \"CA\", \"Pell City\": \"AL\", \"Newport\": \"RI\", \"Warrensburg\": \"MO\", \"Lincoln Park\": \"NJ\", \"La Grande\": \"OR\", \"Niagara Falls\": \"NY\", \"Circle Hot Springs\": \"AK\", \"Lockhart\": \"TX\", \"Provincetown\": \"MA\", \"Endicott\": \"NY\", \"Humboldt\": \"TN\", \"Chefornak\": \"AK\", \"Nunapitchuk\": \"AK\", \"Sullivan\": \"MO\", \"Moncks Corner\": \"SC\", \"Fredericksburg\": \"TX\", \"Jal\": \"NM\", \"Devine\": \"TX\", \"Visalia\": \"CA\", \"Camden\": \"SC\", \"Darlington\": \"SC\", \"Vermillion\": \"SD\", \"Anniston\": \"AL\", \"Jerome\": \"ID\", \"Wiggins\": \"MS\", \"Cavalier\": \"ND\", \"Sparta\": \"TN\", \"South Naknek\": \"AK\", \"Havre\": \"MT\", \"Bremerton\": \"WA\", \"Banning\": \"CA\", \"Chantilly\": \"VA\", \"Twentynine Palms\": \"CA\", \"Evansville\": \"IN\", \"Linden\": \"TN\", \"Millbrook\": \"NY\", \"Douglas Bisbee\": \"AZ\", \"Aurora\": \"OR\", \"Angoon\": \"AK\", \"Macomb\": \"IL\", \"Bridgeport\": \"CA\", \"Harvard\": \"NE\", \"Gallup\": \"NM\", \"Los Angeles\": \"CA\", \"Long Beach\": \"CA\", \"Estherville\": \"IA\", \"Grants Pass\": \"OR\", \"Beaufort\": \"NC\", \"Rockford\": \"IL\", \"Akhiok\": \"AK\", \"Santa Paula\": \"CA\", \"Rangely\": \"CO\", \"Egegik\": \"AK\", \"Blacksburg\": \"VA\", \"North Adams\": \"MA\", \"Starkville\": \"MS\", \"Belzoni\": \"MS\", \"Hawley\": \"MN\", \"Pompano Beach\": \"FL\", \"Aguadilla\": \"PR\", \"Thibodaux\": \"LA\", \"Portsmouth\": \"VA\", \"Clarks Point\": \"AK\", \"Santa Fe\": \"NM\", \"Rolla\": \"ND\", \"Holyoke\": \"CO\", \"Decorah\": \"IA\", \"Modesto\": \"CA\", \"Shishmaref\": \"AK\", \"Ione\": \"WA\", \"Rio Vista\": \"CA\", \"Marksville\": \"LA\", \"Tacoma\": \"WA\", \"Loa\": \"UT\", \"Fort Payne\": \"AL\", \"Gooding\": \"ID\", \"Ionia\": \"MI\", \"Boundary\": \"AK\", \"Temple\": \"TX\", \"Ocean Shores\": \"WA\", \"Tiffin\": \"OH\", \"Camas/Washougal\": \"WA\", \"De Quincy\": \"LA\", \"Monmouth\": \"IL\", \"Forrest City\": \"AR\", \"Hanalei\": \"HI\", \"Salmon\": \"ID\", \"Zuni\": \"NM\", \"Cowley/Lovell/Byron\": \"WY\", \"Mansfield\": \"OH\", \"Springdale\": \"AR\", \"Zephyrhills\": \"FL\", \"Moses Lake\": \"WA\", \"Benson\": \"AZ\", \"Flora\": \"IL\", \"Center\": \"TX\", \"Montezuma\": \"GA\", \"Bluefield\": \"WV\", \"Glen Ullin\": \"ND\", \"Belle Glade\": \"FL\", \"Wellington\": \"TX\", \"Magee\": \"MS\", \"Paragould\": \"AR\", \"Weedsport\": \"NY\", \"Livingston\": \"MT\", \"Joplin\": \"MO\", \"Winterset\": \"IA\", \"Muskogee\": \"OK\", \"Lee's Summit\": \"MO\", \"Excursion Inlet\": \"AK\", \"Thomaston\": \"GA\", \"Guntersville\": \"AL\", \"Conchas Dam\": \"NM\", \"Waldron\": \"AR\", \"Pine Bluffs\": \"WY\", \"Somerville\": \"NJ\", \"Elk City\": \"OK\", \"Elba\": \"AL\", \"Rogers\": \"AR\", \"Imperial\": \"CA\", \"Atkinson\": \"NE\", \"Long Prairie\": \"MN\", \"Wakeeney\": \"KS\", \"Beach\": \"ND\", \"Hope\": \"AR\", \"Gwinner\": \"ND\", \"Cortland\": \"NY\", \"Great Bend\": \"KS\", \"Huntsville\": \"TX\", \"Kasigluk\": \"AK\", \"Lone Pine\": \"CA\", \"Olive Branch\": \"MS\", \"Belleville/St. Louis\": \"IL\", \"Ash Flat\": \"AR\", \"Scottsbluff\": \"NE\", \"Coalinga\": \"CA\", \"Natchitoches\": \"LA\", \"Alma\": \"MI\", \"De Queen\": \"AR\", \"Hominy\": \"OK\", \"Tehachapi\": \"CA\", \"Chicago/Aurora\": \"IL\", \"Rogersville\": \"TN\", \"Malone\": \"NY\", \"El Reno\": \"OK\", \"Shafter\": \"CA\", \"Gainesboro\": \"TN\", \"Augusta\": \"AR\", \"Mitchell\": \"SD\", \"Shageluk\": \"AK\", \"Hanksville\": \"UT\", \"Houston\": \"MO\", \"Pinckneyville-Duquoin\": \"IL\", \"Clear A.F.B.\": \"AK\", \"Wisconsin Rapids\": \"WI\", \"Kongiganak\": \"AK\", \"Pierre\": \"SD\", \"Council Bluffs\": \"IA\", \"O Neill\": \"NE\", \"Welch\": \"WV\", \"Ekwok\": \"AK\", \"Washburn\": \"ND\", \"St. Paul\": \"AK\", \"Tecumseh\": \"NE\", \"Bonham\": \"TX\", \"Marco Island\": \"FL\", \"Sargent\": \"NE\", \"Hayden\": \"CO\", \"Manley Hot Springs\": \"AK\", \"Yakutat\": \"AK\", \"Brookhaven\": \"MS\", \"Bloomington\": \"IL\", \"Aniak\": \"AK\", \"Milford\": \"UT\", \"College Station\": \"TX\", \"Corcoran\": \"CA\", \"Grand Prairie\": \"TX\", \"Victoria\": \"TX\", \"Fort Madison\": \"IA\", \"Socorro\": \"NM\", \"Warm Springs\": \"GA\", \"Mattoon-Charleston\": \"IL\", \"Greenwood\": \"MS\", \"South Bethlehem\": \"NY\", \"Presque Isle\": \"ME\", \"West Bend\": \"WI\", \"Almyra\": \"AR\", \"Winston-Salem\": \"NC\", \"Mount Pocono\": \"PA\", \"Big Spring\": \"TX\", \"Olney\": \"TX\", \"Koyukuk\": \"AK\", \"Lawrenceburg\": \"TN\", \"Ellensburg\": \"WA\", \"Wilkes-Barre\": \"PA\", \"Jasper\": \"GA\", \"Mount Airy\": \"NC\", \"Nephi\": \"UT\", \"French Lick\": \"IN\", \"Lake Havasu City\": \"AZ\", \"Hermiston\": \"OR\", \"Gainesville\": \"GA\", \"Mason\": \"MI\", \"Morrilton\": \"AR\", \"Presho\": \"SD\", \"Gilbertsville\": \"KY\", \"Skaneateles\": \"NY\", \"Napaskiak\": \"AK\", \"Hydaburg\": \"AK\", \"Moriarty\": \"NM\", \"Kenbridge\": \"VA\", \"Jacksboro\": \"TN\", \"Mount Holly\": \"NJ\", \"Barrow\": \"AK\", \"Killeen\": \"TX\", \"Walnut Ridge\": \"AR\", \"Gary\": \"IN\", \"Bardstown\": \"KY\", \"Mineral Point\": \"WI\", \"Chester\": \"CA\", \"Tarboro\": \"NC\", \"Deer Park\": \"WA\", \"Longmont\": \"CO\", \"Michigan City\": \"IN\", \"Brownsville\": \"CA\", \"Rushville\": \"NE\", \"California City\": \"CA\", \"Kirksville\": \"MO\", \"Happy Camp\": \"CA\", \"Pine Knot\": \"KY\", \"Westhampton Beach\": \"NY\", \"Kingman\": \"AZ\", \"Gardiner\": \"MT\", \"Aledo\": \"IL\", \"Salina\": \"KS\", \"Wallace\": \"NC\", \"Greenville\": \"AL\", \"Hood River\": \"OR\", \"Stephenville\": \"TX\", \"Tulare\": \"CA\", \"Wooster\": \"OH\", \"Antlers\": \"OK\", \"Monte Vista\": \"CO\", \"Dayton\": \"OH\", \"Borger\": \"TX\", \"Billings\": \"MT\", \"Ambler\": \"PA\", \"Bradford\": \"PA\", \"Hutchinson\": \"KS\", \"Detroit\": \"MI\", \"Bemidji\": \"MN\", \"Gulkana\": \"AK\", \"Harlan\": \"KY\", \"Dimmitt\": \"TX\", \"Fort Stockton\": \"TX\", \"Tell City\": \"IN\", \"Hayfork\": \"CA\", \"Crescent City\": \"CA\", \"South Boston\": \"VA\", \"Punta Gorda\": \"FL\", \"McRae\": \"GA\", \"Wall\": \"SD\", \"Beloit\": \"KS\", \"Greeley\": \"CO\", \"Roswell\": \"NM\", \"Gettysburg\": \"PA\", \"Silver City\": \"NM\", \"Hebron\": \"NE\", \"Benton Harbor\": \"MI\", \"Mt. Vernon\": \"IL\", \"Crosby\": \"ND\", \"Takotna\": \"AK\", \"Winslow\": \"AZ\", \"Athens/Albany\": \"OH\", \"Ritzville\": \"WA\", \"Petersburg\": \"WV\", \"Minto\": \"AK\", \"East Stroudsburg\": \"PA\", \"Portage\": \"WI\", \"Stormville\": \"NY\", \"Central City\": \"NE\", \"Rockingham\": \"NC\", \"Vancouver\": \"WA\", \"Espanola\": \"NM\", \"Dunkirk\": \"NY\", \"Tuscaloosa\": \"AL\", \"Lander\": \"WY\", \"Geneva\": \"AL\", \"Princeton\": \"ME\", \"Bonners Ferry\": \"ID\", \"Bartlesville\": \"OK\", \"Longville\": \"MN\", \"Knox\": \"IN\", \"Jacksonville\": \"NC\", \"Milton\": \"FL\", \"Watford City\": \"ND\", \"Tucumcari\": \"NM\", \"Polson\": \"MT\", \"Yuba City\": \"CA\", \"Payson\": \"AZ\", \"Novato\": \"CA\", \"Lewisburg\": \"WV\", \"Page\": \"AZ\", \"Baltimore\": \"MD\", \"Dover\": \"DE\", \"Abingdon\": \"VA\", \"Neillsville\": \"WI\", \"Palatka\": \"FL\", \"Chicago/Plainfield\": \"IL\", \"Lusk\": \"WY\", \"Wiscasset\": \"ME\", \"Big Piney\": \"WY\", \"Pecos City\": \"TX\"}\n",
    "en=lambda x: ''.join(l for l in x.encode('latin1', errors='ignore') if l in string.letters+' ')\n",
    "sent_file = open('AFINN-111.txt')#sys.argv[1])\n",
    "tweet_file = open('output.txt')#sys.argv[2])\n",
    "\n",
    "txt=tweet_file.readlines()\n",
    "dctt=sent_file.readlines()\n",
    "\n",
    "dct={x.split('\\t')[0].strip():float(str(x.split('\\t')[1].strip())) for x in dctt}\n",
    "\n",
    "    \n",
    "tweetTextPlace=[extract(t) for t in txt]\n",
    "\n",
    "#tweetText=list(map(lambda l,i: [i,en(l['text'])] if 'text' in l.keys() else '',tweetlines,enumerate(tweetlines)))\n",
    "#tweetUsers=list(map(lambda l,i: [i,l['user']] if 'user' in l.keys() else '',tweetlines,enumerate(tweetlines)))\n",
    "#tweetPlaces=list(map(lambda l,i: [i,l['place']] if 'place' in l.keys() else '',tweetlines,enumerate(tweetlines)))"
   ]
  },
  {
   "cell_type": "code",
   "execution_count": 392,
   "metadata": {
    "collapsed": false
   },
   "outputs": [],
   "source": [
    "\n",
    "d=list(itertools.chain(*[extract(t)[1] for t in txt]))\n",
    "dct=dict.fromkeys(set(d),0)\n",
    "for it in d:\n",
    "    dct[it]+=1"
   ]
  },
  {
   "cell_type": "code",
   "execution_count": 399,
   "metadata": {
    "collapsed": false
   },
   "outputs": [],
   "source": [
    "res=[[k, (v*1.0/len(d))] for k,v in dct.items()]"
   ]
  },
  {
   "cell_type": "code",
   "execution_count": 401,
   "metadata": {
    "collapsed": false
   },
   "outputs": [
    {
     "data": {
      "text/plain": [
       "[['ALDUBSurprise', 0.013363028953229399],\n",
       " ['RT', 0.013363028953229399],\n",
       " ['android', 0.011135857461024499],\n",
       " ['androidgames', 0.011135857461024499],\n",
       " ['EncantadiaProteksyon', 0.008908685968819599],\n",
       " ['TreCru', 0.008908685968819599],\n",
       " ['NCT', 0.008908685968819599],\n",
       " ['sm', 0.008908685968819599],\n",
       " ['Uberpromo', 0.008908685968819599],\n",
       " ['gameinsight', 0.008908685968819599]]"
      ]
     },
     "execution_count": 401,
     "metadata": {},
     "output_type": "execute_result"
    }
   ],
   "source": [
    "resslist(sorted(res,key=lambda l:l[1], reverse=True))[0:10]"
   ]
  },
  {
   "cell_type": "code",
   "execution_count": 386,
   "metadata": {
    "collapsed": false
   },
   "outputs": [],
   "source": [
    "def extract(txt):\n",
    "    res=['',[]]\n",
    "    en=lambda x: ''.join(l for l in x.encode('latin1', errors='ignore') if l in string.letters+' ')\n",
    "    d=json.loads(txt)\n",
    "    \n",
    "    if 'text' in d.keys():\n",
    "        if d['text']!=None and len(d['text'])>0:\n",
    "            res[0]=en(d['text']) \n",
    "    \n",
    "    if 'entities' in d.keys() and 'hashtags' in d['entities'].keys():\n",
    "            for t in d['entities']['hashtags']:\n",
    "                if type(t)==dict and 'text'in t.keys():\n",
    "                    tt=en(t['text'])\n",
    "                    if len(tt)>0:\n",
    "                        res[1].append(tt.lower().strip())\n",
    "    return res[0].strip(),res[1] \n",
    "def tweetSent(txt,dct):\n",
    "    #print(tx)\n",
    "    if len(txt)>0:\n",
    "            delims = \"?.,!:;\"\n",
    "            ww=''.join(l for l in txt if l in string.letters+' ')\n",
    "            wor=ww.split(' ')\n",
    "            words=[w.strip() for w in wor ]\n",
    "\n",
    "            wordsSent=list(map(lambda w: dct[w] if w in dct.keys() else 0.0,words))\n",
    "\n",
    "            return sum(wordsSent)\n",
    "    return 0.0\n",
    "citF=lambda x:sum([tweetSent(y[0],dct) for y in tweetTextPlace if y[1].lower().count(x.lower())>0 ])\n",
    "tweetlines=dict.fromkeys(states.keys(),0)\n",
    "#for k,v in cities.items():\n",
    "#        tweetlines[cities[k]]+=citF(v)\n",
    "for k,v in  states.items():\n",
    "    tweetlines[k]+=citF(v)\n",
    "#tweetlines.update({k:citF(v) for k,v in  states.items()})"
   ]
  },
  {
   "cell_type": "code",
   "execution_count": 339,
   "metadata": {
    "collapsed": false
   },
   "outputs": [
    {
     "data": {
      "text/plain": [
       "set()"
      ]
     },
     "execution_count": 339,
     "metadata": {},
     "output_type": "execute_result"
    }
   ],
   "source": [
    "set(cities.values()) -set (states.keys())"
   ]
  },
  {
   "cell_type": "code",
   "execution_count": 341,
   "metadata": {
    "collapsed": false
   },
   "outputs": [
    {
     "data": {
      "text/plain": [
       "'Iowa'"
      ]
     },
     "execution_count": 341,
     "metadata": {},
     "output_type": "execute_result"
    }
   ],
   "source": [
    "states['IA']"
   ]
  },
  {
   "cell_type": "code",
   "execution_count": null,
   "metadata": {
    "collapsed": false
   },
   "outputs": [],
   "source": [
    "import pandas as pd"
   ]
  },
  {
   "cell_type": "code",
   "execution_count": null,
   "metadata": {
    "collapsed": true
   },
   "outputs": [],
   "source": [
    "air=pd.read_csv('airports.csv')"
   ]
  },
  {
   "cell_type": "code",
   "execution_count": null,
   "metadata": {
    "collapsed": false
   },
   "outputs": [],
   "source": [
    "geos=air[[u'city', u'state']].dropna().copy()"
   ]
  },
  {
   "cell_type": "code",
   "execution_count": null,
   "metadata": {
    "collapsed": false
   },
   "outputs": [],
   "source": [
    "\n",
    "#geos.set_index([u'city'],inplace=True)\n",
    "#geos.reset_index(inplace=True)\n",
    "geosDict=geos.to_dict()"
   ]
  },
  {
   "cell_type": "code",
   "execution_count": null,
   "metadata": {
    "collapsed": false
   },
   "outputs": [],
   "source": [
    "json.dump(geosDict,open('geo.json', 'w')) "
   ]
  },
  {
   "cell_type": "code",
   "execution_count": null,
   "metadata": {
    "collapsed": false
   },
   "outputs": [],
   "source": [
    "txt=open('keys.text').readlines()\n",
    "dctpair=lambda k,m: [i.strip() for i in m]+[k]\n",
    "keys={dctpair(i,x.split(':'))[0]:list(reversed(dctpair(i,x.split(':'))[1:])) for i,x in enumerate(txt) if len(x.split(':')[0].strip())>0}\n",
    "keys.keys()"
   ]
  },
  {
   "cell_type": "code",
   "execution_count": null,
   "metadata": {
    "collapsed": false,
    "scrolled": true
   },
   "outputs": [],
   "source": [
    "from pytz import timezone\n",
    "import datetime\n",
    "pst=timezone('US/Pacific')\n",
    "gmt=timezone('GMT')\n",
    "pst.zone\n",
    "fmt=\"%Y-%m-%d %I:%M:%S %p %Z%z\"\n",
    "dt=pst.localize(datetime.datetime.strptime('2016-11-13 23:59:00',\"%Y-%m-%d %H:%M:%S\"))\n",
    "dtn=gmt.localize(datetime.datetime.today())\n",
    "\n",
    "print(dt.strftime(fmt),dt.astimezone(gmt).strftime(fmt),dtn.strftime(fmt),dtn.astimezone(pst).strftime(fmt))\n"
   ]
  },
  {
   "cell_type": "code",
   "execution_count": null,
   "metadata": {
    "collapsed": false
   },
   "outputs": [],
   "source": [
    "from dateutil.relativedelta import relativedelta\n",
    "relativedelta(dt,dtn)"
   ]
  },
  {
   "cell_type": "code",
   "execution_count": null,
   "metadata": {
    "collapsed": false
   },
   "outputs": [],
   "source": [
    "l=list(filter(lambda x: x.lower().count('bris'.lower())>0,cities.keys()))"
   ]
  },
  {
   "cell_type": "code",
   "execution_count": null,
   "metadata": {
    "collapsed": false
   },
   "outputs": [],
   "source": [
    "l"
   ]
  },
  {
   "cell_type": "code",
   "execution_count": null,
   "metadata": {
    "collapsed": true
   },
   "outputs": [],
   "source": []
  }
 ],
 "metadata": {
  "kernelspec": {
   "display_name": "Python 2",
   "language": "python",
   "name": "python2"
  },
  "language_info": {
   "codemirror_mode": {
    "name": "ipython",
    "version": 2
   },
   "file_extension": ".py",
   "mimetype": "text/x-python",
   "name": "python",
   "nbconvert_exporter": "python",
   "pygments_lexer": "ipython2",
   "version": "2.7.12"
  }
 },
 "nbformat": 4,
 "nbformat_minor": 1
}
